{
  "nbformat": 4,
  "nbformat_minor": 0,
  "metadata": {
    "colab": {
      "provenance": [],
      "collapsed_sections": [
        "TyescT7BqHq_",
        "F1euUpDgruVU",
        "95vUN_Q-9Wm_",
        "kU_9xhdLY9r6",
        "cgXoNkQzY99B",
        "6ufdHM7rVUyk",
        "8GC30xs_h6Hw",
        "RDAjO1SmdmUd",
        "cuedWmrvgwBa",
        "ntIhYAZGGq_k",
        "LypsHVqKVbTv",
        "tW0WjMcT4oKt",
        "QfiD9NaSAjI1",
        "a4z0Fa0Iqr_m",
        "TiKWUSKFs1AD",
        "xKmgH_GwrDLo",
        "wMN7WonYrNEo",
        "1_0vhtaprVU6",
        "iF3aWEgx8y0g",
        "rsk1SATFreoU",
        "R2hFXBSAVRuo",
        "yGYog1yaZrSW",
        "Op9ARbgaaL7z",
        "oupRQOt63z3D"
      ]
    },
    "kernelspec": {
      "name": "python3",
      "display_name": "Python 3"
    },
    "language_info": {
      "name": "python"
    },
    "gpuClass": "standard"
  },
  "cells": [
    {
      "cell_type": "code",
      "execution_count": null,
      "metadata": {
        "id": "MKfiV63Sepgw",
        "colab": {
          "base_uri": "https://localhost:8080/"
        },
        "outputId": "33f3cdc8-6a91-4893-f4b4-c1715dc15096"
      },
      "outputs": [
        {
          "output_type": "stream",
          "name": "stdout",
          "text": [
            "Looking in indexes: https://pypi.org/simple, https://us-python.pkg.dev/colab-wheels/public/simple/\n",
            "Requirement already satisfied: librosa in /usr/local/lib/python3.8/dist-packages (0.8.1)\n",
            "Requirement already satisfied: numba>=0.43.0 in /usr/local/lib/python3.8/dist-packages (from librosa) (0.56.4)\n",
            "Requirement already satisfied: soundfile>=0.10.2 in /usr/local/lib/python3.8/dist-packages (from librosa) (0.11.0)\n",
            "Requirement already satisfied: scipy>=1.0.0 in /usr/local/lib/python3.8/dist-packages (from librosa) (1.7.3)\n",
            "Requirement already satisfied: scikit-learn!=0.19.0,>=0.14.0 in /usr/local/lib/python3.8/dist-packages (from librosa) (1.0.2)\n",
            "Requirement already satisfied: pooch>=1.0 in /usr/local/lib/python3.8/dist-packages (from librosa) (1.6.0)\n",
            "Requirement already satisfied: resampy>=0.2.2 in /usr/local/lib/python3.8/dist-packages (from librosa) (0.4.2)\n",
            "Requirement already satisfied: packaging>=20.0 in /usr/local/lib/python3.8/dist-packages (from librosa) (21.3)\n",
            "Requirement already satisfied: decorator>=3.0.0 in /usr/local/lib/python3.8/dist-packages (from librosa) (4.4.2)\n",
            "Requirement already satisfied: joblib>=0.14 in /usr/local/lib/python3.8/dist-packages (from librosa) (1.2.0)\n",
            "Requirement already satisfied: audioread>=2.0.0 in /usr/local/lib/python3.8/dist-packages (from librosa) (3.0.0)\n",
            "Requirement already satisfied: numpy>=1.15.0 in /usr/local/lib/python3.8/dist-packages (from librosa) (1.21.6)\n",
            "Requirement already satisfied: setuptools in /usr/local/lib/python3.8/dist-packages (from numba>=0.43.0->librosa) (57.4.0)\n",
            "Requirement already satisfied: llvmlite<0.40,>=0.39.0dev0 in /usr/local/lib/python3.8/dist-packages (from numba>=0.43.0->librosa) (0.39.1)\n",
            "Requirement already satisfied: importlib-metadata in /usr/local/lib/python3.8/dist-packages (from numba>=0.43.0->librosa) (6.0.0)\n",
            "Requirement already satisfied: pyparsing!=3.0.5,>=2.0.2 in /usr/local/lib/python3.8/dist-packages (from packaging>=20.0->librosa) (3.0.9)\n",
            "Requirement already satisfied: appdirs>=1.3.0 in /usr/local/lib/python3.8/dist-packages (from pooch>=1.0->librosa) (1.4.4)\n",
            "Requirement already satisfied: requests>=2.19.0 in /usr/local/lib/python3.8/dist-packages (from pooch>=1.0->librosa) (2.25.1)\n",
            "Requirement already satisfied: threadpoolctl>=2.0.0 in /usr/local/lib/python3.8/dist-packages (from scikit-learn!=0.19.0,>=0.14.0->librosa) (3.1.0)\n",
            "Requirement already satisfied: cffi>=1.0 in /usr/local/lib/python3.8/dist-packages (from soundfile>=0.10.2->librosa) (1.15.1)\n",
            "Requirement already satisfied: pycparser in /usr/local/lib/python3.8/dist-packages (from cffi>=1.0->soundfile>=0.10.2->librosa) (2.21)\n",
            "Requirement already satisfied: certifi>=2017.4.17 in /usr/local/lib/python3.8/dist-packages (from requests>=2.19.0->pooch>=1.0->librosa) (2022.12.7)\n",
            "Requirement already satisfied: urllib3<1.27,>=1.21.1 in /usr/local/lib/python3.8/dist-packages (from requests>=2.19.0->pooch>=1.0->librosa) (1.24.3)\n",
            "Requirement already satisfied: idna<3,>=2.5 in /usr/local/lib/python3.8/dist-packages (from requests>=2.19.0->pooch>=1.0->librosa) (2.10)\n",
            "Requirement already satisfied: chardet<5,>=3.0.2 in /usr/local/lib/python3.8/dist-packages (from requests>=2.19.0->pooch>=1.0->librosa) (4.0.0)\n",
            "Requirement already satisfied: zipp>=0.5 in /usr/local/lib/python3.8/dist-packages (from importlib-metadata->numba>=0.43.0->librosa) (3.11.0)\n",
            "sample_data\n",
            "\u001b[2K     \u001b[90m━━━━━━━━━━━━━━━━━━━━━━━━━━━━━━━━━━━━━━━━\u001b[0m \u001b[32m5.8/5.8 MB\u001b[0m \u001b[31m65.8 MB/s\u001b[0m eta \u001b[36m0:00:00\u001b[0m\n",
            "\u001b[2K     \u001b[90m━━━━━━━━━━━━━━━━━━━━━━━━━━━━━━━━━━━━━━━\u001b[0m \u001b[32m588.3/588.3 MB\u001b[0m \u001b[31m1.6 MB/s\u001b[0m eta \u001b[36m0:00:00\u001b[0m\n",
            "\u001b[2K     \u001b[90m━━━━━━━━━━━━━━━━━━━━━━━━━━━━━━━━━━━━━━━━\u001b[0m \u001b[32m6.0/6.0 MB\u001b[0m \u001b[31m38.4 MB/s\u001b[0m eta \u001b[36m0:00:00\u001b[0m\n",
            "\u001b[2K     \u001b[90m━━━━━━━━━━━━━━━━━━━━━━━━━━━━━━━━━━━━━━━━\u001b[0m \u001b[32m1.7/1.7 MB\u001b[0m \u001b[31m40.8 MB/s\u001b[0m eta \u001b[36m0:00:00\u001b[0m\n",
            "\u001b[2K     \u001b[90m━━━━━━━━━━━━━━━━━━━━━━━━━━━━━━━━━━━━━━\u001b[0m \u001b[32m439.2/439.2 KB\u001b[0m \u001b[31m24.0 MB/s\u001b[0m eta \u001b[36m0:00:00\u001b[0m\n",
            "\u001b[?25hLooking in indexes: https://pypi.org/simple, https://us-python.pkg.dev/colab-wheels/public/simple/\n",
            "Collecting tensorflow_addons\n",
            "  Downloading tensorflow_addons-0.19.0-cp38-cp38-manylinux_2_17_x86_64.manylinux2014_x86_64.whl (1.1 MB)\n",
            "\u001b[2K     \u001b[90m━━━━━━━━━━━━━━━━━━━━━━━━━━━━━━━━━━━━━━━━\u001b[0m \u001b[32m1.1/1.1 MB\u001b[0m \u001b[31m47.0 MB/s\u001b[0m eta \u001b[36m0:00:00\u001b[0m\n",
            "\u001b[?25hRequirement already satisfied: packaging in /usr/local/lib/python3.8/dist-packages (from tensorflow_addons) (21.3)\n",
            "Requirement already satisfied: typeguard>=2.7 in /usr/local/lib/python3.8/dist-packages (from tensorflow_addons) (2.7.1)\n",
            "Requirement already satisfied: pyparsing!=3.0.5,>=2.0.2 in /usr/local/lib/python3.8/dist-packages (from packaging->tensorflow_addons) (3.0.9)\n",
            "Installing collected packages: tensorflow_addons\n",
            "Successfully installed tensorflow_addons-0.19.0\n",
            "Looking in indexes: https://pypi.org/simple, https://us-python.pkg.dev/colab-wheels/public/simple/\n",
            "Requirement already satisfied: tensorflow-hub in /usr/local/lib/python3.8/dist-packages (0.12.0)\n",
            "Requirement already satisfied: tensorflow in /usr/local/lib/python3.8/dist-packages (2.11.0)\n",
            "Requirement already satisfied: protobuf>=3.8.0 in /usr/local/lib/python3.8/dist-packages (from tensorflow-hub) (3.19.6)\n",
            "Requirement already satisfied: numpy>=1.12.0 in /usr/local/lib/python3.8/dist-packages (from tensorflow-hub) (1.21.6)\n",
            "Requirement already satisfied: packaging in /usr/local/lib/python3.8/dist-packages (from tensorflow) (21.3)\n",
            "Requirement already satisfied: tensorflow-estimator<2.12,>=2.11.0 in /usr/local/lib/python3.8/dist-packages (from tensorflow) (2.11.0)\n",
            "Requirement already satisfied: grpcio<2.0,>=1.24.3 in /usr/local/lib/python3.8/dist-packages (from tensorflow) (1.51.1)\n",
            "Requirement already satisfied: tensorboard<2.12,>=2.11 in /usr/local/lib/python3.8/dist-packages (from tensorflow) (2.11.0)\n",
            "Requirement already satisfied: keras<2.12,>=2.11.0 in /usr/local/lib/python3.8/dist-packages (from tensorflow) (2.11.0)\n",
            "Requirement already satisfied: termcolor>=1.1.0 in /usr/local/lib/python3.8/dist-packages (from tensorflow) (2.2.0)\n",
            "Requirement already satisfied: google-pasta>=0.1.1 in /usr/local/lib/python3.8/dist-packages (from tensorflow) (0.2.0)\n",
            "Requirement already satisfied: absl-py>=1.0.0 in /usr/local/lib/python3.8/dist-packages (from tensorflow) (1.3.0)\n",
            "Requirement already satisfied: wrapt>=1.11.0 in /usr/local/lib/python3.8/dist-packages (from tensorflow) (1.14.1)\n",
            "Requirement already satisfied: libclang>=13.0.0 in /usr/local/lib/python3.8/dist-packages (from tensorflow) (14.0.6)\n",
            "Requirement already satisfied: setuptools in /usr/local/lib/python3.8/dist-packages (from tensorflow) (57.4.0)\n",
            "Requirement already satisfied: six>=1.12.0 in /usr/local/lib/python3.8/dist-packages (from tensorflow) (1.15.0)\n",
            "Requirement already satisfied: typing-extensions>=3.6.6 in /usr/local/lib/python3.8/dist-packages (from tensorflow) (4.4.0)\n",
            "Requirement already satisfied: opt-einsum>=2.3.2 in /usr/local/lib/python3.8/dist-packages (from tensorflow) (3.3.0)\n",
            "Requirement already satisfied: astunparse>=1.6.0 in /usr/local/lib/python3.8/dist-packages (from tensorflow) (1.6.3)\n",
            "Requirement already satisfied: flatbuffers>=2.0 in /usr/local/lib/python3.8/dist-packages (from tensorflow) (23.1.4)\n",
            "Requirement already satisfied: tensorflow-io-gcs-filesystem>=0.23.1 in /usr/local/lib/python3.8/dist-packages (from tensorflow) (0.29.0)\n",
            "Requirement already satisfied: gast<=0.4.0,>=0.2.1 in /usr/local/lib/python3.8/dist-packages (from tensorflow) (0.4.0)\n",
            "Requirement already satisfied: h5py>=2.9.0 in /usr/local/lib/python3.8/dist-packages (from tensorflow) (3.1.0)\n",
            "Requirement already satisfied: wheel<1.0,>=0.23.0 in /usr/local/lib/python3.8/dist-packages (from astunparse>=1.6.0->tensorflow) (0.38.4)\n",
            "Requirement already satisfied: requests<3,>=2.21.0 in /usr/local/lib/python3.8/dist-packages (from tensorboard<2.12,>=2.11->tensorflow) (2.25.1)\n",
            "Requirement already satisfied: tensorboard-plugin-wit>=1.6.0 in /usr/local/lib/python3.8/dist-packages (from tensorboard<2.12,>=2.11->tensorflow) (1.8.1)\n",
            "Requirement already satisfied: werkzeug>=1.0.1 in /usr/local/lib/python3.8/dist-packages (from tensorboard<2.12,>=2.11->tensorflow) (1.0.1)\n",
            "Requirement already satisfied: google-auth<3,>=1.6.3 in /usr/local/lib/python3.8/dist-packages (from tensorboard<2.12,>=2.11->tensorflow) (2.15.0)\n",
            "Requirement already satisfied: tensorboard-data-server<0.7.0,>=0.6.0 in /usr/local/lib/python3.8/dist-packages (from tensorboard<2.12,>=2.11->tensorflow) (0.6.1)\n",
            "Requirement already satisfied: markdown>=2.6.8 in /usr/local/lib/python3.8/dist-packages (from tensorboard<2.12,>=2.11->tensorflow) (3.4.1)\n",
            "Requirement already satisfied: google-auth-oauthlib<0.5,>=0.4.1 in /usr/local/lib/python3.8/dist-packages (from tensorboard<2.12,>=2.11->tensorflow) (0.4.6)\n",
            "Requirement already satisfied: pyparsing!=3.0.5,>=2.0.2 in /usr/local/lib/python3.8/dist-packages (from packaging->tensorflow) (3.0.9)\n",
            "Requirement already satisfied: rsa<5,>=3.1.4 in /usr/local/lib/python3.8/dist-packages (from google-auth<3,>=1.6.3->tensorboard<2.12,>=2.11->tensorflow) (4.9)\n",
            "Requirement already satisfied: pyasn1-modules>=0.2.1 in /usr/local/lib/python3.8/dist-packages (from google-auth<3,>=1.6.3->tensorboard<2.12,>=2.11->tensorflow) (0.2.8)\n",
            "Requirement already satisfied: cachetools<6.0,>=2.0.0 in /usr/local/lib/python3.8/dist-packages (from google-auth<3,>=1.6.3->tensorboard<2.12,>=2.11->tensorflow) (5.2.0)\n",
            "Requirement already satisfied: requests-oauthlib>=0.7.0 in /usr/local/lib/python3.8/dist-packages (from google-auth-oauthlib<0.5,>=0.4.1->tensorboard<2.12,>=2.11->tensorflow) (1.3.1)\n",
            "Requirement already satisfied: importlib-metadata>=4.4 in /usr/local/lib/python3.8/dist-packages (from markdown>=2.6.8->tensorboard<2.12,>=2.11->tensorflow) (6.0.0)\n",
            "Requirement already satisfied: idna<3,>=2.5 in /usr/local/lib/python3.8/dist-packages (from requests<3,>=2.21.0->tensorboard<2.12,>=2.11->tensorflow) (2.10)\n",
            "Requirement already satisfied: urllib3<1.27,>=1.21.1 in /usr/local/lib/python3.8/dist-packages (from requests<3,>=2.21.0->tensorboard<2.12,>=2.11->tensorflow) (1.24.3)\n",
            "Requirement already satisfied: chardet<5,>=3.0.2 in /usr/local/lib/python3.8/dist-packages (from requests<3,>=2.21.0->tensorboard<2.12,>=2.11->tensorflow) (4.0.0)\n",
            "Requirement already satisfied: certifi>=2017.4.17 in /usr/local/lib/python3.8/dist-packages (from requests<3,>=2.21.0->tensorboard<2.12,>=2.11->tensorflow) (2022.12.7)\n",
            "Requirement already satisfied: zipp>=0.5 in /usr/local/lib/python3.8/dist-packages (from importlib-metadata>=4.4->markdown>=2.6.8->tensorboard<2.12,>=2.11->tensorflow) (3.11.0)\n",
            "Requirement already satisfied: pyasn1<0.5.0,>=0.4.6 in /usr/local/lib/python3.8/dist-packages (from pyasn1-modules>=0.2.1->google-auth<3,>=1.6.3->tensorboard<2.12,>=2.11->tensorflow) (0.4.8)\n",
            "Requirement already satisfied: oauthlib>=3.0.0 in /usr/local/lib/python3.8/dist-packages (from requests-oauthlib>=0.7.0->google-auth-oauthlib<0.5,>=0.4.1->tensorboard<2.12,>=2.11->tensorflow) (3.2.2)\n",
            "Looking in indexes: https://pypi.org/simple, https://us-python.pkg.dev/colab-wheels/public/simple/\n",
            "Collecting lazypredict\n",
            "  Downloading lazypredict-0.2.12-py2.py3-none-any.whl (12 kB)\n",
            "Requirement already satisfied: joblib in /usr/local/lib/python3.8/dist-packages (from lazypredict) (1.2.0)\n",
            "Requirement already satisfied: xgboost in /usr/local/lib/python3.8/dist-packages (from lazypredict) (0.90)\n",
            "Requirement already satisfied: tqdm in /usr/local/lib/python3.8/dist-packages (from lazypredict) (4.64.1)\n",
            "Requirement already satisfied: pandas in /usr/local/lib/python3.8/dist-packages (from lazypredict) (1.3.5)\n",
            "Requirement already satisfied: click in /usr/local/lib/python3.8/dist-packages (from lazypredict) (7.1.2)\n",
            "Requirement already satisfied: lightgbm in /usr/local/lib/python3.8/dist-packages (from lazypredict) (2.2.3)\n",
            "Requirement already satisfied: scikit-learn in /usr/local/lib/python3.8/dist-packages (from lazypredict) (1.0.2)\n",
            "Requirement already satisfied: scipy in /usr/local/lib/python3.8/dist-packages (from lightgbm->lazypredict) (1.7.3)\n",
            "Requirement already satisfied: numpy in /usr/local/lib/python3.8/dist-packages (from lightgbm->lazypredict) (1.21.6)\n",
            "Requirement already satisfied: pytz>=2017.3 in /usr/local/lib/python3.8/dist-packages (from pandas->lazypredict) (2022.7)\n",
            "Requirement already satisfied: python-dateutil>=2.7.3 in /usr/local/lib/python3.8/dist-packages (from pandas->lazypredict) (2.8.2)\n",
            "Requirement already satisfied: threadpoolctl>=2.0.0 in /usr/local/lib/python3.8/dist-packages (from scikit-learn->lazypredict) (3.1.0)\n",
            "Requirement already satisfied: six>=1.5 in /usr/local/lib/python3.8/dist-packages (from python-dateutil>=2.7.3->pandas->lazypredict) (1.15.0)\n",
            "Installing collected packages: lazypredict\n",
            "Successfully installed lazypredict-0.2.12\n"
          ]
        }
      ],
      "source": [
        "!pip install librosa\n",
        "!dir\n",
        "! pip install -q tensorflow-text\n",
        "! pip install tensorflow_addons\n",
        "!pip install tensorflow-hub tensorflow\n",
        "!pip install lazypredict\n",
        "\n"
      ]
    },
    {
      "cell_type": "code",
      "source": [
        "import matplotlib.pyplot as plt\n",
        "%matplotlib inline\n",
        "#-------------------------------------------------\n",
        "import IPython.display as ipd\n",
        "import librosa\n",
        "import librosa.display\n",
        "import os\n",
        "#-------------------------------------------------\n",
        "import pandas as pd\n",
        "#-------------------------------------------------\n",
        "import numpy as np\n",
        "from tqdm import tqdm\n",
        "#-------------------------------------------------\n",
        "import tensorflow as tf\n",
        "from tensorflow.keras.models import Sequential\n",
        "from tensorflow.keras.layers import Dense,Dropout,Activation,Flatten\n",
        "from tensorflow.keras.optimizers import Adam\n",
        "from tensorflow.keras import models, layers\n",
        "import tensorflow as tf\n",
        "import tensorflow_hub as hub\n",
        "import tensorflow_text as text\n",
        "import tensorflow_addons as tfa\n",
        "import tensorflow as keras\n",
        "from sklearn import metrics\n",
        "from tensorflow.keras.utils import to_categorical\n",
        "from sklearn.preprocessing import LabelEncoder\n",
        "#-------------------------------------------------\n",
        "from sklearn.model_selection import train_test_split\n",
        "#-------------------------------------------------\n",
        "from tensorflow.keras.callbacks import ModelCheckpoint\n",
        "from datetime import datetime \n",
        "#-------------------------------------------------\n",
        "from xgboost import XGBClassifier\n",
        "from sklearn.pipeline import make_pipeline\n",
        "from sklearn.preprocessing import StandardScaler\n",
        "from sklearn.svm import SVC\n",
        "from sklearn.svm import NuSVC\n",
        "from sklearn.ensemble import ExtraTreesClassifier\n",
        "import lightgbm as lgb\n",
        "from sklearn.ensemble import RandomForestClassifier\n",
        "from sklearn.neighbors import KNeighborsClassifier\n",
        "from sklearn.linear_model import LogisticRegression\n",
        "from sklearn.discriminant_analysis import LinearDiscriminantAnalysis\n",
        "from sklearn.linear_model import Perceptron\n",
        "from sklearn.neighbors import NearestCentroid\n",
        "from sklearn.ensemble import BaggingClassifier\n",
        "from sklearn import svm\n",
        "from lazypredict.Supervised import LazyClassifier\n",
        "from sklearn.svm import LinearSVC\n",
        "from sklearn.linear_model import SGDClassifier\n",
        "#-------------------------------------------------\n",
        "from sklearn.metrics import cohen_kappa_score\n",
        "from sklearn.metrics import f1_score"
      ],
      "metadata": {
        "id": "B9Qa-vQFlmg9"
      },
      "execution_count": null,
      "outputs": []
    },
    {
      "cell_type": "code",
      "source": [
        "from google.colab import drive\n",
        "drive.mount('/content/drive',force_remount=True)"
      ],
      "metadata": {
        "colab": {
          "base_uri": "https://localhost:8080/"
        },
        "id": "R3bGn0dqlxj7",
        "outputId": "70b12beb-ebf9-436d-85fc-ddf807f74687"
      },
      "execution_count": null,
      "outputs": [
        {
          "output_type": "stream",
          "name": "stdout",
          "text": [
            "Mounted at /content/drive\n"
          ]
        }
      ]
    },
    {
      "cell_type": "code",
      "source": [
        "#Choose Question\n",
        "question=1\n",
        "\n",
        "if(question==1):\n",
        "  number_of_audios=1672\n",
        "elif(question==2):\n",
        "  number_of_audios=1278\n",
        "elif(question==3):\n",
        "  number_of_audios=1808\n",
        "elif(question==4):\n",
        "  number_of_audios=1657\n",
        "elif(question==5):\n",
        "  number_of_audios=1795\n",
        "elif(question==6):\n",
        "  number_of_audios=1797\n",
        "elif(question==7):\n",
        "  number_of_audios=1799\n",
        "elif(question==8):\n",
        "  number_of_audios=1799\n",
        "elif(question==9):\n",
        "  number_of_audios=1798\n",
        "elif(question==10):\n",
        "  number_of_audios=1640"
      ],
      "metadata": {
        "id": "xIFjI0VhKp82"
      },
      "execution_count": null,
      "outputs": []
    },
    {
      "cell_type": "code",
      "source": [
        "audio = [\"\" for x in range(number_of_audios)]\n",
        "for i in range(1,number_of_audios+1):\n",
        "    path ='/content/drive/MyDrive/Speech Dataset/Question'+str(question)+'/wav/'+str(question)+'-'+str(i)+'.wav'\n",
        "    #path=path[:0] + path[1:]\n",
        "    audio[i-1]=path"
      ],
      "metadata": {
        "id": "1r2gl1JCmo8v"
      },
      "execution_count": null,
      "outputs": []
    },
    {
      "cell_type": "code",
      "source": [
        "ref_df=pd.read_csv('/content/drive/MyDrive/Speech Dataset/sas-ar.csv')\n",
        "ref_df=ref_df[ref_df['EssaySet']==question]\n",
        "ref_df.reset_index(inplace=True)"
      ],
      "metadata": {
        "id": "gG_n57V2p4Wi"
      },
      "execution_count": null,
      "outputs": []
    },
    {
      "cell_type": "code",
      "source": [
        "df=pd.DataFrame(audio, columns=['Audios'])\n",
        "df['class']=ref_df['Score1']"
      ],
      "metadata": {
        "id": "9ygI1OjQqCXC"
      },
      "execution_count": null,
      "outputs": []
    },
    {
      "cell_type": "code",
      "source": [
        "def features_extractor_rms_2d(file):\n",
        "    audio, sample_rate = librosa.load(file_name, res_type='kaiser_fast') \n",
        "    features = librosa.feature.rms(y=audio)\n",
        "    features = librosa.power_to_db(features , ref=np.max)\n",
        "    scaled_features = np.mean(features.T,axis=0)\n",
        "    return scaled_features\n",
        "    \n",
        "\n",
        "def features_extractor_mel_spect_3d(file):\n",
        "    audio, sample_rate = librosa.load(file_name, res_type='kaiser_fast') \n",
        "    features = librosa.feature.melspectrogram(y=audio, sr=sample_rate, n_fft=2048, hop_length=1024)\n",
        "    features = librosa.power_to_db(features , ref=np.max)\n",
        "\n",
        "    features=features.tolist()\n",
        "    for j in range(len(features)):\n",
        "      features[j]\n",
        "      for i in range(1300-len(features[j])):\n",
        "        features[j].append(0)\n",
        "    features=np.array(features)\n",
        "    return features\n",
        "def features_extractor_mel_spect_2d(file):\n",
        "    audio, sample_rate = librosa.load(file_name, res_type='kaiser_fast') \n",
        "    features = librosa.feature.melspectrogram(y=audio, sr=sample_rate, n_fft=2048, hop_length=1024)\n",
        "    features = librosa.power_to_db(features , ref=np.max)\n",
        "    scaled_features = np.mean(features.T,axis=0)\n",
        "    return scaled_features\n",
        "    \n",
        "def features_extractor_mfcc_3d(file):\n",
        "    audio, sample_rate = librosa.load(file_name, res_type='kaiser_fast') \n",
        "    features = librosa.feature.mfcc(y=audio, sr=sample_rate, n_mfcc=40)\n",
        "  \n",
        "    features=features.tolist()\n",
        "    for j in range(len(features)):\n",
        "      features[j]\n",
        "      for i in range(2600-len(features[j])):\n",
        "        features[j].append(0)\n",
        "    features=np.array(features)\n",
        "    return features\n",
        "def features_extractor_mfcc_2d(file):\n",
        "    audio, sample_rate = librosa.load(file_name, res_type='kaiser_fast') \n",
        "    features = librosa.feature.mfcc(y=audio, sr=sample_rate, n_mfcc=40)\n",
        "    scaled_features = np.mean(features.T,axis=0)\n",
        "    \n",
        "    return scaled_features"
      ],
      "metadata": {
        "id": "Q9c5F44NmqvJ"
      },
      "execution_count": null,
      "outputs": []
    },
    {
      "cell_type": "code",
      "source": [
        "### Now we iterate through every audio file and extract features \n",
        "extracted_features=[]\n",
        "for index_num,row in tqdm(df.iterrows()):\n",
        "    file_name = row['Audios']\n",
        "    final_class_labels=row[\"class\"]\n",
        "    #data=features_extractor_mfcc_2d(file_name)\n",
        "    data=features_extractor_mel_spect_2d(file_name)\n",
        "    #data=features_extractor_rms_2d(file_name)\n",
        "    extracted_features.append([data,final_class_labels])\n",
        "\n",
        "extracted_features_df=pd.DataFrame(extracted_features,columns=['feature','class'])"
      ],
      "metadata": {
        "colab": {
          "base_uri": "https://localhost:8080/"
        },
        "id": "PlZhrl4CrK9a",
        "outputId": "8bdf76c3-03ae-46eb-f415-ef2e3e2d47b6"
      },
      "execution_count": null,
      "outputs": [
        {
          "output_type": "stream",
          "name": "stderr",
          "text": [
            "1672it [07:00,  3.98it/s]\n"
          ]
        }
      ]
    },
    {
      "cell_type": "code",
      "source": [
        "X=np.array(extracted_features_df['feature'].tolist())\n",
        "y=np.array(extracted_features_df['class'].tolist())\n",
        "\n",
        "X_train,X_test,y_train,y_test=train_test_split(X,y,test_size=0.2,random_state=0)\n",
        "num_labels=len(np.unique(y_train))\n",
        "print(np.unique(y_train, return_counts=True))"
      ],
      "metadata": {
        "id": "FnwQ9JzJs1CQ",
        "colab": {
          "base_uri": "https://localhost:8080/"
        },
        "outputId": "76236a07-c583-42fe-d089-a8cfd4f79204"
      },
      "execution_count": null,
      "outputs": [
        {
          "output_type": "stream",
          "name": "stdout",
          "text": [
            "(array([0, 1, 2, 3]), array([304, 343, 425, 265]))\n"
          ]
        }
      ]
    },
    {
      "cell_type": "markdown",
      "source": [
        "# vGGish"
      ],
      "metadata": {
        "id": "TyescT7BqHq_"
      }
    },
    {
      "cell_type": "code",
      "source": [
        "# Load the VGGish model from TensorFlow Hub\n",
        "model = hub.load(\"https://tfhub.dev/google/vggish/1\")"
      ],
      "metadata": {
        "id": "rbLbCBWw228x"
      },
      "execution_count": null,
      "outputs": []
    },
    {
      "cell_type": "code",
      "source": [
        "import tensorflow as tf\n",
        "import tensorflow_hub as hub\n",
        "from tensorflow.keras.layers import Conv1D, MaxPooling1D, Dense, Dropout, Flatten, GRU, SimpleRNN, LSTM, Bidirectional, Activation, TimeDistributed\n",
        "import keras,os\n",
        "from keras.models import Sequential\n",
        "\n",
        "\n",
        "# Preprocess your audio data and labels\n",
        "# audio_data should be a numpy array with shape (num_samples, num_features)\n",
        "# labels should be a numpy array with shape (num_samples,)\n",
        "  #audio_data, labels = all_mfccs,labels\n",
        "\n",
        "# Convert the audio data and labels to tensors\n",
        "#audio_data_tensor = tf.convert_to_tensor(audio_data)\n",
        "#labels_tensor = tf.convert_to_tensor(labels)\n",
        "\n",
        "    # audio_data_tensor = audio_data\n",
        "    # labels_tensor = labels\n",
        "    # labels_tensor=labels_tensor[:10]\n",
        "\n",
        "# Fine-tune the model by adding a classification layer on top of it\n",
        "model = keras.Sequential([\n",
        "    model,\n",
        "    keras.layers.Dense(200,input_shape=(40,2600,1)),\n",
        "    keras.layers.Dense(64, activation=\"softmax\"),\n",
        "    keras.layers.Dense(4, activation=\"softmax\")\n",
        "])\n",
        "\n",
        " #Compile the model\n",
        "# \"sparse_categorical_crossentropy\"\n",
        "#model.compile(optimizer=\"adam\", loss='sparse_categorical_crossentropy', metrics=[\"accuracy\"])\n",
        "# Train the model\n",
        "#model.fit(audio_data_tensor, labels_tensor, epochs=10)\n",
        "\n",
        "# Evaluate the model on the test data\n",
        "#test_loss, test_acc = model.evaluate(test_audio_data_tensor, test_labels_tensor)\n",
        "#print(f\"Test accuracy: {test_acc}\")"
      ],
      "metadata": {
        "colab": {
          "base_uri": "https://localhost:8080/",
          "height": 415
        },
        "id": "ymtDo3-8qGgb",
        "outputId": "92154d37-2f7b-48a7-af15-7654a8b39760"
      },
      "execution_count": null,
      "outputs": [
        {
          "output_type": "error",
          "ename": "TypeError",
          "evalue": "ignored",
          "traceback": [
            "\u001b[0;31m---------------------------------------------------------------------------\u001b[0m",
            "\u001b[0;31mTypeError\u001b[0m                                 Traceback (most recent call last)",
            "\u001b[0;32m<ipython-input-135-6dde12dd9654>\u001b[0m in \u001b[0;36m<module>\u001b[0;34m\u001b[0m\n\u001b[1;32m     20\u001b[0m \u001b[0;34m\u001b[0m\u001b[0m\n\u001b[1;32m     21\u001b[0m \u001b[0;31m# Fine-tune the model by adding a classification layer on top of it\u001b[0m\u001b[0;34m\u001b[0m\u001b[0;34m\u001b[0m\u001b[0;34m\u001b[0m\u001b[0m\n\u001b[0;32m---> 22\u001b[0;31m model = keras.Sequential([\n\u001b[0m\u001b[1;32m     23\u001b[0m     \u001b[0mmodel\u001b[0m\u001b[0;34m,\u001b[0m\u001b[0;34m\u001b[0m\u001b[0;34m\u001b[0m\u001b[0m\n\u001b[1;32m     24\u001b[0m     \u001b[0mkeras\u001b[0m\u001b[0;34m.\u001b[0m\u001b[0mlayers\u001b[0m\u001b[0;34m.\u001b[0m\u001b[0mDense\u001b[0m\u001b[0;34m(\u001b[0m\u001b[0;36m200\u001b[0m\u001b[0;34m,\u001b[0m\u001b[0minput_shape\u001b[0m\u001b[0;34m=\u001b[0m\u001b[0;34m(\u001b[0m\u001b[0;36m40\u001b[0m\u001b[0;34m,\u001b[0m\u001b[0;36m2600\u001b[0m\u001b[0;34m,\u001b[0m\u001b[0;36m1\u001b[0m\u001b[0;34m)\u001b[0m\u001b[0;34m)\u001b[0m\u001b[0;34m,\u001b[0m\u001b[0;34m\u001b[0m\u001b[0;34m\u001b[0m\u001b[0m\n",
            "\u001b[0;32m/usr/local/lib/python3.8/dist-packages/tensorflow/python/trackable/base.py\u001b[0m in \u001b[0;36m_method_wrapper\u001b[0;34m(self, *args, **kwargs)\u001b[0m\n\u001b[1;32m    203\u001b[0m     \u001b[0mself\u001b[0m\u001b[0;34m.\u001b[0m\u001b[0m_self_setattr_tracking\u001b[0m \u001b[0;34m=\u001b[0m \u001b[0;32mFalse\u001b[0m  \u001b[0;31m# pylint: disable=protected-access\u001b[0m\u001b[0;34m\u001b[0m\u001b[0;34m\u001b[0m\u001b[0m\n\u001b[1;32m    204\u001b[0m     \u001b[0;32mtry\u001b[0m\u001b[0;34m:\u001b[0m\u001b[0;34m\u001b[0m\u001b[0;34m\u001b[0m\u001b[0m\n\u001b[0;32m--> 205\u001b[0;31m       \u001b[0mresult\u001b[0m \u001b[0;34m=\u001b[0m \u001b[0mmethod\u001b[0m\u001b[0;34m(\u001b[0m\u001b[0mself\u001b[0m\u001b[0;34m,\u001b[0m \u001b[0;34m*\u001b[0m\u001b[0margs\u001b[0m\u001b[0;34m,\u001b[0m \u001b[0;34m**\u001b[0m\u001b[0mkwargs\u001b[0m\u001b[0;34m)\u001b[0m\u001b[0;34m\u001b[0m\u001b[0;34m\u001b[0m\u001b[0m\n\u001b[0m\u001b[1;32m    206\u001b[0m     \u001b[0;32mfinally\u001b[0m\u001b[0;34m:\u001b[0m\u001b[0;34m\u001b[0m\u001b[0;34m\u001b[0m\u001b[0m\n\u001b[1;32m    207\u001b[0m       \u001b[0mself\u001b[0m\u001b[0;34m.\u001b[0m\u001b[0m_self_setattr_tracking\u001b[0m \u001b[0;34m=\u001b[0m \u001b[0mprevious_value\u001b[0m  \u001b[0;31m# pylint: disable=protected-access\u001b[0m\u001b[0;34m\u001b[0m\u001b[0;34m\u001b[0m\u001b[0m\n",
            "\u001b[0;32m/usr/local/lib/python3.8/dist-packages/keras/utils/traceback_utils.py\u001b[0m in \u001b[0;36merror_handler\u001b[0;34m(*args, **kwargs)\u001b[0m\n\u001b[1;32m     68\u001b[0m             \u001b[0;31m# To get the full stack trace, call:\u001b[0m\u001b[0;34m\u001b[0m\u001b[0;34m\u001b[0m\u001b[0;34m\u001b[0m\u001b[0m\n\u001b[1;32m     69\u001b[0m             \u001b[0;31m# `tf.debugging.disable_traceback_filtering()`\u001b[0m\u001b[0;34m\u001b[0m\u001b[0;34m\u001b[0m\u001b[0;34m\u001b[0m\u001b[0m\n\u001b[0;32m---> 70\u001b[0;31m             \u001b[0;32mraise\u001b[0m \u001b[0me\u001b[0m\u001b[0;34m.\u001b[0m\u001b[0mwith_traceback\u001b[0m\u001b[0;34m(\u001b[0m\u001b[0mfiltered_tb\u001b[0m\u001b[0;34m)\u001b[0m \u001b[0;32mfrom\u001b[0m \u001b[0;32mNone\u001b[0m\u001b[0;34m\u001b[0m\u001b[0;34m\u001b[0m\u001b[0m\n\u001b[0m\u001b[1;32m     71\u001b[0m         \u001b[0;32mfinally\u001b[0m\u001b[0;34m:\u001b[0m\u001b[0;34m\u001b[0m\u001b[0;34m\u001b[0m\u001b[0m\n\u001b[1;32m     72\u001b[0m             \u001b[0;32mdel\u001b[0m \u001b[0mfiltered_tb\u001b[0m\u001b[0;34m\u001b[0m\u001b[0;34m\u001b[0m\u001b[0m\n",
            "\u001b[0;32m/usr/local/lib/python3.8/dist-packages/keras/engine/sequential.py\u001b[0m in \u001b[0;36madd\u001b[0;34m(self, layer)\u001b[0m\n\u001b[1;32m    184\u001b[0m                 \u001b[0mlayer\u001b[0m \u001b[0;34m=\u001b[0m \u001b[0mfunctional\u001b[0m\u001b[0;34m.\u001b[0m\u001b[0mModuleWrapper\u001b[0m\u001b[0;34m(\u001b[0m\u001b[0mlayer\u001b[0m\u001b[0;34m)\u001b[0m\u001b[0;34m\u001b[0m\u001b[0;34m\u001b[0m\u001b[0m\n\u001b[1;32m    185\u001b[0m         \u001b[0;32melse\u001b[0m\u001b[0;34m:\u001b[0m\u001b[0;34m\u001b[0m\u001b[0;34m\u001b[0m\u001b[0m\n\u001b[0;32m--> 186\u001b[0;31m             raise TypeError(\n\u001b[0m\u001b[1;32m    187\u001b[0m                 \u001b[0;34m\"The added layer must be an instance of class Layer. \"\u001b[0m\u001b[0;34m\u001b[0m\u001b[0;34m\u001b[0m\u001b[0m\n\u001b[1;32m    188\u001b[0m                 \u001b[0;34mf\"Received: layer={layer} of type {type(layer)}.\"\u001b[0m\u001b[0;34m\u001b[0m\u001b[0;34m\u001b[0m\u001b[0m\n",
            "\u001b[0;31mTypeError\u001b[0m: The added layer must be an instance of class Layer. Received: layer=<tensorflow.python.saved_model.load.Loader._recreate_base_user_object.<locals>._UserObject object at 0x7f80eaa0d310> of type <class 'tensorflow.python.saved_model.load.Loader._recreate_base_user_object.<locals>._UserObject'>."
          ]
        }
      ]
    },
    {
      "cell_type": "code",
      "source": [
        "audio_data_tensor=np.array(audio_data_tensor)\n",
        "labels_tensor=np.array(labels_tensor)\n",
        "#labelencoder=LabelEncoder()\n",
        "#labels_tensor=to_categorical(labelencoder.fit_transform(labels_tensor))"
      ],
      "metadata": {
        "id": "Yu_Km8nyBWtO"
      },
      "execution_count": null,
      "outputs": []
    },
    {
      "cell_type": "code",
      "source": [
        "audio_data_tensor=audio_data_tensor.reshape(audio_data_tensor.shape[0],audio_data_tensor.shape[1],audio_data_tensor.shape[2],1)"
      ],
      "metadata": {
        "id": "6-Vv-JtODhsS"
      },
      "execution_count": null,
      "outputs": []
    },
    {
      "cell_type": "markdown",
      "source": [
        "# DenseNet"
      ],
      "metadata": {
        "id": "F1euUpDgruVU"
      }
    },
    {
      "cell_type": "code",
      "source": [
        "import tensorflow \n",
        "\n",
        "import pandas as pd\n",
        "import numpy as np\n",
        "import os\n",
        "import keras\n",
        "import random\n",
        "import cv2\n",
        "import math\n",
        "import seaborn as sns\n",
        "\n",
        "from sklearn.metrics import confusion_matrix\n",
        "from sklearn.preprocessing import LabelBinarizer\n",
        "from sklearn.model_selection import train_test_split\n",
        "\n",
        "import matplotlib.pyplot as plt\n",
        "\n",
        "from tensorflow.keras.layers import Dense,GlobalAveragePooling2D,Convolution2D,BatchNormalization\n",
        "from tensorflow.keras.layers import Flatten,MaxPooling2D,Dropout\n",
        "\n",
        "from tensorflow.keras.applications import DenseNet121\n",
        "from tensorflow.keras.applications.densenet import preprocess_input\n",
        "\n",
        "from tensorflow.keras.preprocessing import image\n",
        "from tensorflow.keras.preprocessing.image import ImageDataGenerator,img_to_array\n",
        "\n",
        "from tensorflow.keras.models import Model\n",
        "\n",
        "from tensorflow.keras.optimizers import Adam\n",
        "\n",
        "from tensorflow.keras.callbacks import ModelCheckpoint, ReduceLROnPlateau\n",
        "\n",
        "import warnings\n",
        "warnings.filterwarnings(\"ignore\")"
      ],
      "metadata": {
        "id": "mAgnJqFusAG-"
      },
      "execution_count": null,
      "outputs": []
    },
    {
      "cell_type": "code",
      "source": [],
      "metadata": {
        "id": "HjSBQep028cC"
      },
      "execution_count": null,
      "outputs": []
    },
    {
      "cell_type": "code",
      "source": [
        "X=np.array(extracted_features_df['feature'].tolist())\n",
        "y=np.array(extracted_features_df['class'].tolist())\n",
        "X_train,X_test,y_train,y_test=train_test_split(X,y,test_size=0.2,random_state=0)\n",
        "\n",
        "X_train=X_train.reshape(X_train.shape[0],X_train.shape[1],X_train.shape[2],1)\n",
        "X_test=X_test.reshape(X_test.shape[0],X_test.shape[1],X_test.shape[2],1)"
      ],
      "metadata": {
        "id": "HRlVVKzf28V5"
      },
      "execution_count": null,
      "outputs": []
    },
    {
      "cell_type": "code",
      "source": [
        "model_d=DenseNet121(weights=None,include_top=False, input_shape=(40,2600,1))\n",
        "\n",
        "x=model_d.output\n",
        "\n",
        "x= GlobalAveragePooling2D()(x)\n",
        "x= BatchNormalization()(x)\n",
        "x= Dropout(0.5)(x)\n",
        "x= Dense(128,activation='relu')(x) \n",
        "x= Dense(64,activation='relu')(x) \n",
        "x= BatchNormalization()(x)\n",
        "x= Dropout(0.5)(x)\n",
        "\n",
        "preds=Dense(4,activation='softmax')(x) #FC-layer"
      ],
      "metadata": {
        "id": "OCTHKKu4t4Ao"
      },
      "execution_count": null,
      "outputs": []
    },
    {
      "cell_type": "code",
      "source": [
        "model=Model(inputs=model_d.input,outputs=preds)"
      ],
      "metadata": {
        "id": "QM4QPXqZsAEF"
      },
      "execution_count": null,
      "outputs": []
    },
    {
      "cell_type": "code",
      "source": [
        "for layer in model.layers[:-8]:\n",
        "    layer.trainable=False\n",
        "    \n",
        "for layer in model.layers[-8:]:\n",
        "    layer.trainable=True"
      ],
      "metadata": {
        "id": "_WEWSi_XuEha"
      },
      "execution_count": null,
      "outputs": []
    },
    {
      "cell_type": "code",
      "source": [],
      "metadata": {
        "id": "3HKQld9e6I08"
      },
      "execution_count": null,
      "outputs": []
    },
    {
      "cell_type": "code",
      "source": [
        "\n",
        "model.compile(optimizer='Adam',loss='categorical_crossentropy',\n",
        "              metrics=[tf.keras.metrics.Recall(),tf.keras.metrics.Precision(),tfa.metrics.CohenKappa(num_classes=num_labels, sparse_labels=True, weightage=\"quadratic\"),\"accuracy\"]\n",
        "              )"
      ],
      "metadata": {
        "id": "zW-C6sHBuEet"
      },
      "execution_count": null,
      "outputs": []
    },
    {
      "cell_type": "code",
      "source": [
        "y_train = np.array(y_train)\n",
        "mlb = LabelBinarizer()\n",
        "y_train = mlb.fit_transform(y_train)"
      ],
      "metadata": {
        "id": "LpWnEGu52sgT"
      },
      "execution_count": null,
      "outputs": []
    },
    {
      "cell_type": "code",
      "source": [
        "anne = ReduceLROnPlateau(monitor='val_accuracy', factor=0.5, patience=5, verbose=1, min_lr=1e-3)\n",
        "checkpoint = ModelCheckpoint('model.h5', verbose=1, save_best_only=True)\n",
        "\n",
        "datagen = ImageDataGenerator(zoom_range = 0.2, horizontal_flip=True, shear_range=0.2)\n",
        "\n",
        "\n",
        "datagen.fit(X_train)\n",
        "# Fits-the-model\n",
        "history = model.fit_generator(datagen.flow(X_train, y_train, batch_size=8),\n",
        "               steps_per_epoch=X_train.shape[0] //128,\n",
        "               epochs=50,\n",
        "               verbose=2,\n",
        "               callbacks=[anne, checkpoint],\n",
        "               validation_data=(X_train, y_train))"
      ],
      "metadata": {
        "id": "ODNCJOCU0Xfg"
      },
      "execution_count": null,
      "outputs": []
    },
    {
      "cell_type": "code",
      "source": [],
      "metadata": {
        "id": "Ic9O20tXgs2Q"
      },
      "execution_count": null,
      "outputs": []
    },
    {
      "cell_type": "code",
      "source": [
        "op = keras.optimizers.Adam(learning_rate=0.001)\n",
        "loss = keras.losses.SparseCategoricalCrossentropy()\n",
        "model.compile(optimizer=op,\n",
        "              loss=loss,\n",
        "              metrics=[tfa.metrics.CohenKappa(weightage=\"quadratic\", sparse_labels=True, num_classes=num_labels),\"accuracy\"])"
      ],
      "metadata": {
        "id": "2lr3YnLO05VJ"
      },
      "execution_count": null,
      "outputs": []
    },
    {
      "cell_type": "code",
      "source": [
        "model.fit(X_train, y_train, epochs=10, validation_split=0.2, batch_size=8, shuffle=True)"
      ],
      "metadata": {
        "colab": {
          "base_uri": "https://localhost:8080/",
          "height": 328
        },
        "id": "_QDtDvXyr33q",
        "outputId": "0c7ee86e-1d87-42f1-a9aa-6865cd91a5bc"
      },
      "execution_count": null,
      "outputs": [
        {
          "output_type": "stream",
          "name": "stdout",
          "text": [
            "Epoch 1/10\n"
          ]
        },
        {
          "output_type": "error",
          "ename": "KeyboardInterrupt",
          "evalue": "ignored",
          "traceback": [
            "\u001b[0;31m---------------------------------------------------------------------------\u001b[0m",
            "\u001b[0;31mKeyboardInterrupt\u001b[0m                         Traceback (most recent call last)",
            "\u001b[0;32m<ipython-input-314-d10ad0755f72>\u001b[0m in \u001b[0;36m<module>\u001b[0;34m\u001b[0m\n\u001b[0;32m----> 1\u001b[0;31m \u001b[0mmodel\u001b[0m\u001b[0;34m.\u001b[0m\u001b[0mfit\u001b[0m\u001b[0;34m(\u001b[0m\u001b[0mX_train\u001b[0m\u001b[0;34m,\u001b[0m \u001b[0my_train\u001b[0m\u001b[0;34m,\u001b[0m \u001b[0mepochs\u001b[0m\u001b[0;34m=\u001b[0m\u001b[0;36m10\u001b[0m\u001b[0;34m,\u001b[0m \u001b[0mvalidation_split\u001b[0m\u001b[0;34m=\u001b[0m\u001b[0;36m0.2\u001b[0m\u001b[0;34m,\u001b[0m \u001b[0mbatch_size\u001b[0m\u001b[0;34m=\u001b[0m\u001b[0;36m8\u001b[0m\u001b[0;34m,\u001b[0m \u001b[0mshuffle\u001b[0m\u001b[0;34m=\u001b[0m\u001b[0;32mTrue\u001b[0m\u001b[0;34m)\u001b[0m\u001b[0;34m\u001b[0m\u001b[0;34m\u001b[0m\u001b[0m\n\u001b[0m",
            "\u001b[0;32m/usr/local/lib/python3.8/dist-packages/keras/utils/traceback_utils.py\u001b[0m in \u001b[0;36merror_handler\u001b[0;34m(*args, **kwargs)\u001b[0m\n\u001b[1;32m     63\u001b[0m         \u001b[0mfiltered_tb\u001b[0m \u001b[0;34m=\u001b[0m \u001b[0;32mNone\u001b[0m\u001b[0;34m\u001b[0m\u001b[0;34m\u001b[0m\u001b[0m\n\u001b[1;32m     64\u001b[0m         \u001b[0;32mtry\u001b[0m\u001b[0;34m:\u001b[0m\u001b[0;34m\u001b[0m\u001b[0;34m\u001b[0m\u001b[0m\n\u001b[0;32m---> 65\u001b[0;31m             \u001b[0;32mreturn\u001b[0m \u001b[0mfn\u001b[0m\u001b[0;34m(\u001b[0m\u001b[0;34m*\u001b[0m\u001b[0margs\u001b[0m\u001b[0;34m,\u001b[0m \u001b[0;34m**\u001b[0m\u001b[0mkwargs\u001b[0m\u001b[0;34m)\u001b[0m\u001b[0;34m\u001b[0m\u001b[0;34m\u001b[0m\u001b[0m\n\u001b[0m\u001b[1;32m     66\u001b[0m         \u001b[0;32mexcept\u001b[0m \u001b[0mException\u001b[0m \u001b[0;32mas\u001b[0m \u001b[0me\u001b[0m\u001b[0;34m:\u001b[0m\u001b[0;34m\u001b[0m\u001b[0;34m\u001b[0m\u001b[0m\n\u001b[1;32m     67\u001b[0m             \u001b[0mfiltered_tb\u001b[0m \u001b[0;34m=\u001b[0m \u001b[0m_process_traceback_frames\u001b[0m\u001b[0;34m(\u001b[0m\u001b[0me\u001b[0m\u001b[0;34m.\u001b[0m\u001b[0m__traceback__\u001b[0m\u001b[0;34m)\u001b[0m\u001b[0;34m\u001b[0m\u001b[0;34m\u001b[0m\u001b[0m\n",
            "\u001b[0;32m/usr/local/lib/python3.8/dist-packages/keras/engine/training.py\u001b[0m in \u001b[0;36mfit\u001b[0;34m(self, x, y, batch_size, epochs, verbose, callbacks, validation_split, validation_data, shuffle, class_weight, sample_weight, initial_epoch, steps_per_epoch, validation_steps, validation_batch_size, validation_freq, max_queue_size, workers, use_multiprocessing)\u001b[0m\n\u001b[1;32m   1648\u001b[0m                         ):\n\u001b[1;32m   1649\u001b[0m                             \u001b[0mcallbacks\u001b[0m\u001b[0;34m.\u001b[0m\u001b[0mon_train_batch_begin\u001b[0m\u001b[0;34m(\u001b[0m\u001b[0mstep\u001b[0m\u001b[0;34m)\u001b[0m\u001b[0;34m\u001b[0m\u001b[0;34m\u001b[0m\u001b[0m\n\u001b[0;32m-> 1650\u001b[0;31m                             \u001b[0mtmp_logs\u001b[0m \u001b[0;34m=\u001b[0m \u001b[0mself\u001b[0m\u001b[0;34m.\u001b[0m\u001b[0mtrain_function\u001b[0m\u001b[0;34m(\u001b[0m\u001b[0miterator\u001b[0m\u001b[0;34m)\u001b[0m\u001b[0;34m\u001b[0m\u001b[0;34m\u001b[0m\u001b[0m\n\u001b[0m\u001b[1;32m   1651\u001b[0m                             \u001b[0;32mif\u001b[0m \u001b[0mdata_handler\u001b[0m\u001b[0;34m.\u001b[0m\u001b[0mshould_sync\u001b[0m\u001b[0;34m:\u001b[0m\u001b[0;34m\u001b[0m\u001b[0;34m\u001b[0m\u001b[0m\n\u001b[1;32m   1652\u001b[0m                                 \u001b[0mcontext\u001b[0m\u001b[0;34m.\u001b[0m\u001b[0masync_wait\u001b[0m\u001b[0;34m(\u001b[0m\u001b[0;34m)\u001b[0m\u001b[0;34m\u001b[0m\u001b[0;34m\u001b[0m\u001b[0m\n",
            "\u001b[0;32m/usr/local/lib/python3.8/dist-packages/tensorflow/python/util/traceback_utils.py\u001b[0m in \u001b[0;36merror_handler\u001b[0;34m(*args, **kwargs)\u001b[0m\n\u001b[1;32m    148\u001b[0m     \u001b[0mfiltered_tb\u001b[0m \u001b[0;34m=\u001b[0m \u001b[0;32mNone\u001b[0m\u001b[0;34m\u001b[0m\u001b[0;34m\u001b[0m\u001b[0m\n\u001b[1;32m    149\u001b[0m     \u001b[0;32mtry\u001b[0m\u001b[0;34m:\u001b[0m\u001b[0;34m\u001b[0m\u001b[0;34m\u001b[0m\u001b[0m\n\u001b[0;32m--> 150\u001b[0;31m       \u001b[0;32mreturn\u001b[0m \u001b[0mfn\u001b[0m\u001b[0;34m(\u001b[0m\u001b[0;34m*\u001b[0m\u001b[0margs\u001b[0m\u001b[0;34m,\u001b[0m \u001b[0;34m**\u001b[0m\u001b[0mkwargs\u001b[0m\u001b[0;34m)\u001b[0m\u001b[0;34m\u001b[0m\u001b[0;34m\u001b[0m\u001b[0m\n\u001b[0m\u001b[1;32m    151\u001b[0m     \u001b[0;32mexcept\u001b[0m \u001b[0mException\u001b[0m \u001b[0;32mas\u001b[0m \u001b[0me\u001b[0m\u001b[0;34m:\u001b[0m\u001b[0;34m\u001b[0m\u001b[0;34m\u001b[0m\u001b[0m\n\u001b[1;32m    152\u001b[0m       \u001b[0mfiltered_tb\u001b[0m \u001b[0;34m=\u001b[0m \u001b[0m_process_traceback_frames\u001b[0m\u001b[0;34m(\u001b[0m\u001b[0me\u001b[0m\u001b[0;34m.\u001b[0m\u001b[0m__traceback__\u001b[0m\u001b[0;34m)\u001b[0m\u001b[0;34m\u001b[0m\u001b[0;34m\u001b[0m\u001b[0m\n",
            "\u001b[0;32m/usr/local/lib/python3.8/dist-packages/tensorflow/python/eager/polymorphic_function/polymorphic_function.py\u001b[0m in \u001b[0;36m__call__\u001b[0;34m(self, *args, **kwds)\u001b[0m\n\u001b[1;32m    878\u001b[0m \u001b[0;34m\u001b[0m\u001b[0m\n\u001b[1;32m    879\u001b[0m       \u001b[0;32mwith\u001b[0m \u001b[0mOptionalXlaContext\u001b[0m\u001b[0;34m(\u001b[0m\u001b[0mself\u001b[0m\u001b[0;34m.\u001b[0m\u001b[0m_jit_compile\u001b[0m\u001b[0;34m)\u001b[0m\u001b[0;34m:\u001b[0m\u001b[0;34m\u001b[0m\u001b[0;34m\u001b[0m\u001b[0m\n\u001b[0;32m--> 880\u001b[0;31m         \u001b[0mresult\u001b[0m \u001b[0;34m=\u001b[0m \u001b[0mself\u001b[0m\u001b[0;34m.\u001b[0m\u001b[0m_call\u001b[0m\u001b[0;34m(\u001b[0m\u001b[0;34m*\u001b[0m\u001b[0margs\u001b[0m\u001b[0;34m,\u001b[0m \u001b[0;34m**\u001b[0m\u001b[0mkwds\u001b[0m\u001b[0;34m)\u001b[0m\u001b[0;34m\u001b[0m\u001b[0;34m\u001b[0m\u001b[0m\n\u001b[0m\u001b[1;32m    881\u001b[0m \u001b[0;34m\u001b[0m\u001b[0m\n\u001b[1;32m    882\u001b[0m       \u001b[0mnew_tracing_count\u001b[0m \u001b[0;34m=\u001b[0m \u001b[0mself\u001b[0m\u001b[0;34m.\u001b[0m\u001b[0mexperimental_get_tracing_count\u001b[0m\u001b[0;34m(\u001b[0m\u001b[0;34m)\u001b[0m\u001b[0;34m\u001b[0m\u001b[0;34m\u001b[0m\u001b[0m\n",
            "\u001b[0;32m/usr/local/lib/python3.8/dist-packages/tensorflow/python/eager/polymorphic_function/polymorphic_function.py\u001b[0m in \u001b[0;36m_call\u001b[0;34m(self, *args, **kwds)\u001b[0m\n\u001b[1;32m    910\u001b[0m       \u001b[0;31m# In this case we have created variables on the first call, so we run the\u001b[0m\u001b[0;34m\u001b[0m\u001b[0;34m\u001b[0m\u001b[0;34m\u001b[0m\u001b[0m\n\u001b[1;32m    911\u001b[0m       \u001b[0;31m# defunned version which is guaranteed to never create variables.\u001b[0m\u001b[0;34m\u001b[0m\u001b[0;34m\u001b[0m\u001b[0;34m\u001b[0m\u001b[0m\n\u001b[0;32m--> 912\u001b[0;31m       \u001b[0;32mreturn\u001b[0m \u001b[0mself\u001b[0m\u001b[0;34m.\u001b[0m\u001b[0m_no_variable_creation_fn\u001b[0m\u001b[0;34m(\u001b[0m\u001b[0;34m*\u001b[0m\u001b[0margs\u001b[0m\u001b[0;34m,\u001b[0m \u001b[0;34m**\u001b[0m\u001b[0mkwds\u001b[0m\u001b[0;34m)\u001b[0m  \u001b[0;31m# pylint: disable=not-callable\u001b[0m\u001b[0;34m\u001b[0m\u001b[0;34m\u001b[0m\u001b[0m\n\u001b[0m\u001b[1;32m    913\u001b[0m     \u001b[0;32melif\u001b[0m \u001b[0mself\u001b[0m\u001b[0;34m.\u001b[0m\u001b[0m_variable_creation_fn\u001b[0m \u001b[0;32mis\u001b[0m \u001b[0;32mnot\u001b[0m \u001b[0;32mNone\u001b[0m\u001b[0;34m:\u001b[0m\u001b[0;34m\u001b[0m\u001b[0;34m\u001b[0m\u001b[0m\n\u001b[1;32m    914\u001b[0m       \u001b[0;31m# Release the lock early so that multiple threads can perform the call\u001b[0m\u001b[0;34m\u001b[0m\u001b[0;34m\u001b[0m\u001b[0;34m\u001b[0m\u001b[0m\n",
            "\u001b[0;32m/usr/local/lib/python3.8/dist-packages/tensorflow/python/eager/polymorphic_function/tracing_compiler.py\u001b[0m in \u001b[0;36m__call__\u001b[0;34m(self, *args, **kwargs)\u001b[0m\n\u001b[1;32m    132\u001b[0m       (concrete_function,\n\u001b[1;32m    133\u001b[0m        filtered_flat_args) = self._maybe_define_function(args, kwargs)\n\u001b[0;32m--> 134\u001b[0;31m     return concrete_function._call_flat(\n\u001b[0m\u001b[1;32m    135\u001b[0m         filtered_flat_args, captured_inputs=concrete_function.captured_inputs)  # pylint: disable=protected-access\n\u001b[1;32m    136\u001b[0m \u001b[0;34m\u001b[0m\u001b[0m\n",
            "\u001b[0;32m/usr/local/lib/python3.8/dist-packages/tensorflow/python/eager/polymorphic_function/monomorphic_function.py\u001b[0m in \u001b[0;36m_call_flat\u001b[0;34m(self, args, captured_inputs, cancellation_manager)\u001b[0m\n\u001b[1;32m   1743\u001b[0m         and executing_eagerly):\n\u001b[1;32m   1744\u001b[0m       \u001b[0;31m# No tape is watching; skip to running the function.\u001b[0m\u001b[0;34m\u001b[0m\u001b[0;34m\u001b[0m\u001b[0;34m\u001b[0m\u001b[0m\n\u001b[0;32m-> 1745\u001b[0;31m       return self._build_call_outputs(self._inference_function.call(\n\u001b[0m\u001b[1;32m   1746\u001b[0m           ctx, args, cancellation_manager=cancellation_manager))\n\u001b[1;32m   1747\u001b[0m     forward_backward = self._select_forward_and_backward_functions(\n",
            "\u001b[0;32m/usr/local/lib/python3.8/dist-packages/tensorflow/python/eager/polymorphic_function/monomorphic_function.py\u001b[0m in \u001b[0;36mcall\u001b[0;34m(self, ctx, args, cancellation_manager)\u001b[0m\n\u001b[1;32m    376\u001b[0m       \u001b[0;32mwith\u001b[0m \u001b[0m_InterpolateFunctionError\u001b[0m\u001b[0;34m(\u001b[0m\u001b[0mself\u001b[0m\u001b[0;34m)\u001b[0m\u001b[0;34m:\u001b[0m\u001b[0;34m\u001b[0m\u001b[0;34m\u001b[0m\u001b[0m\n\u001b[1;32m    377\u001b[0m         \u001b[0;32mif\u001b[0m \u001b[0mcancellation_manager\u001b[0m \u001b[0;32mis\u001b[0m \u001b[0;32mNone\u001b[0m\u001b[0;34m:\u001b[0m\u001b[0;34m\u001b[0m\u001b[0;34m\u001b[0m\u001b[0m\n\u001b[0;32m--> 378\u001b[0;31m           outputs = execute.execute(\n\u001b[0m\u001b[1;32m    379\u001b[0m               \u001b[0mstr\u001b[0m\u001b[0;34m(\u001b[0m\u001b[0mself\u001b[0m\u001b[0;34m.\u001b[0m\u001b[0msignature\u001b[0m\u001b[0;34m.\u001b[0m\u001b[0mname\u001b[0m\u001b[0;34m)\u001b[0m\u001b[0;34m,\u001b[0m\u001b[0;34m\u001b[0m\u001b[0;34m\u001b[0m\u001b[0m\n\u001b[1;32m    380\u001b[0m               \u001b[0mnum_outputs\u001b[0m\u001b[0;34m=\u001b[0m\u001b[0mself\u001b[0m\u001b[0;34m.\u001b[0m\u001b[0m_num_outputs\u001b[0m\u001b[0;34m,\u001b[0m\u001b[0;34m\u001b[0m\u001b[0;34m\u001b[0m\u001b[0m\n",
            "\u001b[0;32m/usr/local/lib/python3.8/dist-packages/tensorflow/python/eager/execute.py\u001b[0m in \u001b[0;36mquick_execute\u001b[0;34m(op_name, num_outputs, inputs, attrs, ctx, name)\u001b[0m\n\u001b[1;32m     50\u001b[0m   \u001b[0;32mtry\u001b[0m\u001b[0;34m:\u001b[0m\u001b[0;34m\u001b[0m\u001b[0;34m\u001b[0m\u001b[0m\n\u001b[1;32m     51\u001b[0m     \u001b[0mctx\u001b[0m\u001b[0;34m.\u001b[0m\u001b[0mensure_initialized\u001b[0m\u001b[0;34m(\u001b[0m\u001b[0;34m)\u001b[0m\u001b[0;34m\u001b[0m\u001b[0;34m\u001b[0m\u001b[0m\n\u001b[0;32m---> 52\u001b[0;31m     tensors = pywrap_tfe.TFE_Py_Execute(ctx._handle, device_name, op_name,\n\u001b[0m\u001b[1;32m     53\u001b[0m                                         inputs, attrs, num_outputs)\n\u001b[1;32m     54\u001b[0m   \u001b[0;32mexcept\u001b[0m \u001b[0mcore\u001b[0m\u001b[0;34m.\u001b[0m\u001b[0m_NotOkStatusException\u001b[0m \u001b[0;32mas\u001b[0m \u001b[0me\u001b[0m\u001b[0;34m:\u001b[0m\u001b[0;34m\u001b[0m\u001b[0;34m\u001b[0m\u001b[0m\n",
            "\u001b[0;31mKeyboardInterrupt\u001b[0m: "
          ]
        }
      ]
    },
    {
      "cell_type": "code",
      "source": [
        "print(model.evaluate(X_test,y_test))"
      ],
      "metadata": {
        "colab": {
          "base_uri": "https://localhost:8080/"
        },
        "id": "Fzw-pB4EqAVh",
        "outputId": "fe36452f-f0a1-4990-c5f6-00d136d23c1f"
      },
      "execution_count": null,
      "outputs": [
        {
          "output_type": "stream",
          "name": "stdout",
          "text": [
            "5/5 [==============================] - 52s 10s/step - loss: 1.4601 - cohen_kappa: 0.1788 - accuracy: 0.3000\n",
            "[1.4600660800933838, 0.17882800102233887, 0.30000001192092896]\n"
          ]
        }
      ]
    },
    {
      "cell_type": "markdown",
      "source": [
        "# LSTM\n"
      ],
      "metadata": {
        "id": "95vUN_Q-9Wm_"
      }
    },
    {
      "cell_type": "code",
      "source": [
        "X=np.array(extracted_features_df['feature'].tolist())\n",
        "y=np.array(extracted_features_df['class'].tolist())\n",
        "X_train,X_test,y_train,y_test=train_test_split(X,y,test_size=0.2,random_state=0)\n",
        "\n",
        "X_train=np.expand_dims(X_train,axis=1)\n",
        "X_test=np.expand_dims(X_test,axis=1)"
      ],
      "metadata": {
        "id": "gyM5UhUC9V2X"
      },
      "execution_count": null,
      "outputs": []
    },
    {
      "cell_type": "code",
      "source": [
        "X_train.shape"
      ],
      "metadata": {
        "colab": {
          "base_uri": "https://localhost:8080/"
        },
        "id": "p1WMZcxyFIGQ",
        "outputId": "5526e542-7a0c-4cc8-9061-67d2e1e6fc09"
      },
      "execution_count": null,
      "outputs": [
        {
          "output_type": "execute_result",
          "data": {
            "text/plain": [
              "(1446, 1, 128)"
            ]
          },
          "metadata": {},
          "execution_count": 324
        }
      ]
    },
    {
      "cell_type": "code",
      "source": [
        "tf.keras.backend.clear_session()\n",
        "epochs = 10\n",
        "callback = tf.keras.callbacks.EarlyStopping(monitor='val_loss', patience=50)\n",
        "lstm_model = tf.keras.Sequential([\n",
        "        tf.keras.layers.Input(shape=(X_train.shape[1],X_train.shape[2])),\n",
        "        tf.keras.layers.LSTM(128,activation=\"relu\", return_sequences=True), #,recurrent_dropout=0.2\n",
        "        tf.keras.layers.Dropout(0.2),\n",
        "        tf.keras.layers.LSTM(64 ,activation=\"relu\"), #, recurrent_dropout=0.2\n",
        "        tf.keras.layers.Dropout(0.2),\n",
        "        tf.keras.layers.Dense(num_labels, activation=\"softmax\")\n",
        "])\n",
        "op = keras.optimizers.Adam(learning_rate=0.001)\n",
        "loss = keras.losses.SparseCategoricalCrossentropy()\n",
        "lstm_model.compile(optimizer=op,\n",
        "              loss=loss,\n",
        "              metrics=[tfa.metrics.CohenKappa(weightage=\"quadratic\", sparse_labels=True, num_classes=num_labels),\"accuracy\"])\n",
        "lstm_history = lstm_model.fit(X_train, y_train,epochs=epochs, validation_split=0.1, batch_size=64, callbacks=[callback], shuffle=True)\n"
      ],
      "metadata": {
        "id": "L9gP4UTj9eL0",
        "colab": {
          "base_uri": "https://localhost:8080/"
        },
        "outputId": "95f68a4a-5b80-467b-aa95-5b9142f3fe68"
      },
      "execution_count": null,
      "outputs": [
        {
          "output_type": "stream",
          "name": "stdout",
          "text": [
            "Epoch 1/10\n",
            "21/21 [==============================] - 8s 44ms/step - loss: 2.2842 - cohen_kappa: -0.0124 - accuracy: 0.4420 - val_loss: 1.0155 - val_cohen_kappa: 0.0000e+00 - val_accuracy: 0.5586\n",
            "Epoch 2/10\n",
            "21/21 [==============================] - 0s 10ms/step - loss: 1.0912 - cohen_kappa: 0.0419 - accuracy: 0.4996 - val_loss: 0.9937 - val_cohen_kappa: 0.0000e+00 - val_accuracy: 0.5586\n",
            "Epoch 3/10\n",
            "21/21 [==============================] - 0s 12ms/step - loss: 1.0470 - cohen_kappa: -0.0039 - accuracy: 0.5327 - val_loss: 0.9904 - val_cohen_kappa: 0.0000e+00 - val_accuracy: 0.5586\n",
            "Epoch 4/10\n",
            "21/21 [==============================] - 0s 11ms/step - loss: 1.0024 - cohen_kappa: 0.0082 - accuracy: 0.5596 - val_loss: 0.9948 - val_cohen_kappa: 0.0000e+00 - val_accuracy: 0.5586\n",
            "Epoch 5/10\n",
            "21/21 [==============================] - 0s 10ms/step - loss: 0.9973 - cohen_kappa: 0.0032 - accuracy: 0.5596 - val_loss: 1.0021 - val_cohen_kappa: 0.0000e+00 - val_accuracy: 0.5586\n",
            "Epoch 6/10\n",
            "21/21 [==============================] - 0s 12ms/step - loss: 1.0006 - cohen_kappa: 0.0065 - accuracy: 0.5626 - val_loss: 0.9942 - val_cohen_kappa: 0.0000e+00 - val_accuracy: 0.5586\n",
            "Epoch 7/10\n",
            "21/21 [==============================] - 0s 11ms/step - loss: 1.0015 - cohen_kappa: 0.0041 - accuracy: 0.5603 - val_loss: 0.9891 - val_cohen_kappa: 0.0000e+00 - val_accuracy: 0.5586\n",
            "Epoch 8/10\n",
            "21/21 [==============================] - 0s 11ms/step - loss: 1.0041 - cohen_kappa: 0.0068 - accuracy: 0.5619 - val_loss: 0.9951 - val_cohen_kappa: 0.0000e+00 - val_accuracy: 0.5586\n",
            "Epoch 9/10\n",
            "21/21 [==============================] - 0s 10ms/step - loss: 1.0051 - cohen_kappa: -0.0032 - accuracy: 0.5619 - val_loss: 0.9999 - val_cohen_kappa: 0.0000e+00 - val_accuracy: 0.5586\n",
            "Epoch 10/10\n",
            "21/21 [==============================] - 0s 11ms/step - loss: 0.9941 - cohen_kappa: -3.9530e-04 - accuracy: 0.5626 - val_loss: 0.9893 - val_cohen_kappa: 0.0000e+00 - val_accuracy: 0.5586\n"
          ]
        }
      ]
    },
    {
      "cell_type": "code",
      "source": [
        "print(lstm_model.evaluate(X_test,y_test))"
      ],
      "metadata": {
        "colab": {
          "base_uri": "https://localhost:8080/"
        },
        "id": "SmuGHpcw9eJt",
        "outputId": "a45c21b4-1877-45b9-c5c2-7deb63c10cca"
      },
      "execution_count": null,
      "outputs": [
        {
          "output_type": "stream",
          "name": "stdout",
          "text": [
            "12/12 [==============================] - 0s 4ms/step - loss: 1.0039 - cohen_kappa: 0.0000e+00 - accuracy: 0.5442\n",
            "[1.003897786140442, 0.0, 0.5441988706588745]\n"
          ]
        }
      ]
    },
    {
      "cell_type": "markdown",
      "source": [
        "# RNN"
      ],
      "metadata": {
        "id": "kU_9xhdLY9r6"
      }
    },
    {
      "cell_type": "code",
      "source": [
        "tf.keras.backend.clear_session()\n",
        "callback = tf.keras.callbacks.EarlyStopping(monitor='val_loss', patience=100)\n",
        "epoch = 10\n",
        "rnn_model = tf.keras.Sequential([\n",
        "        tf.keras.layers.Input(shape=(1,X_train.shape[2])),\n",
        "        tf.keras.layers.SimpleRNN(128,activation=\"sigmoid\", return_sequences=True),\n",
        "        tf.keras.layers.Dropout(.2),\n",
        "        tf.keras.layers.SimpleRNN(64 ,activation=\"sigmoid\"),\n",
        "        #tf.keras.layers.Dropout(.2),\n",
        "        tf.keras.layers.Dense(num_labels, activation=\"softmax\"),\n",
        "])\n",
        "op = keras.optimizers.Adam(learning_rate=0.001)\n",
        "loss = keras.losses.SparseCategoricalCrossentropy()\n",
        "rnn_model.compile(optimizer=op,\n",
        "              loss=loss,\n",
        "              metrics=[tfa.metrics.CohenKappa(num_classes=num_labels, sparse_labels=True, weightage=\"quadratic\"),\"accuracy\"])\n",
        "rnn_history = rnn_model.fit(X_train, y_train,epochs=epoch, validation_split=0.1, batch_size=8, callbacks=[callback])"
      ],
      "metadata": {
        "colab": {
          "base_uri": "https://localhost:8080/"
        },
        "id": "hi4xkpQLZKrH",
        "outputId": "eef08eca-a67a-472b-ef96-ec194661e3ed"
      },
      "execution_count": null,
      "outputs": [
        {
          "output_type": "stream",
          "name": "stdout",
          "text": [
            "Epoch 1/10\n",
            "148/148 [==============================] - 4s 8ms/step - loss: 1.0450 - cohen_kappa: -0.0183 - accuracy: 0.4644 - val_loss: 1.0114 - val_cohen_kappa: 0.0000e+00 - val_accuracy: 0.5227\n",
            "Epoch 2/10\n",
            "148/148 [==============================] - 1s 4ms/step - loss: 1.0487 - cohen_kappa: 0.0082 - accuracy: 0.4551 - val_loss: 1.0238 - val_cohen_kappa: 0.0000e+00 - val_accuracy: 0.5227\n",
            "Epoch 3/10\n",
            "148/148 [==============================] - 1s 4ms/step - loss: 1.0363 - cohen_kappa: -0.0035 - accuracy: 0.4415 - val_loss: 1.0141 - val_cohen_kappa: 0.0000e+00 - val_accuracy: 0.5227\n",
            "Epoch 4/10\n",
            "148/148 [==============================] - 1s 3ms/step - loss: 1.0365 - cohen_kappa: -0.0194 - accuracy: 0.4610 - val_loss: 1.0124 - val_cohen_kappa: 0.0000e+00 - val_accuracy: 0.5227\n",
            "Epoch 5/10\n",
            "148/148 [==============================] - 0s 3ms/step - loss: 1.0374 - cohen_kappa: 0.0097 - accuracy: 0.4669 - val_loss: 1.0234 - val_cohen_kappa: 0.0000e+00 - val_accuracy: 0.5227\n",
            "Epoch 6/10\n",
            "148/148 [==============================] - 0s 3ms/step - loss: 1.0396 - cohen_kappa: -0.0372 - accuracy: 0.4432 - val_loss: 1.0189 - val_cohen_kappa: 0.0000e+00 - val_accuracy: 0.5227\n",
            "Epoch 7/10\n",
            "148/148 [==============================] - 1s 3ms/step - loss: 1.0341 - cohen_kappa: 0.0137 - accuracy: 0.4644 - val_loss: 1.0334 - val_cohen_kappa: 0.0000e+00 - val_accuracy: 0.5227\n",
            "Epoch 8/10\n",
            "148/148 [==============================] - 1s 3ms/step - loss: 1.0339 - cohen_kappa: -0.0039 - accuracy: 0.4695 - val_loss: 1.0200 - val_cohen_kappa: 0.0000e+00 - val_accuracy: 0.5227\n",
            "Epoch 9/10\n",
            "148/148 [==============================] - 1s 4ms/step - loss: 1.0311 - cohen_kappa: 0.0152 - accuracy: 0.4720 - val_loss: 1.0219 - val_cohen_kappa: 0.0000e+00 - val_accuracy: 0.5227\n",
            "Epoch 10/10\n",
            "148/148 [==============================] - 0s 3ms/step - loss: 1.0318 - cohen_kappa: 0.0145 - accuracy: 0.4653 - val_loss: 1.0147 - val_cohen_kappa: 0.0000e+00 - val_accuracy: 0.5227\n"
          ]
        }
      ]
    },
    {
      "cell_type": "code",
      "source": [
        "print(rnn_model.evaluate(X_test,y_test))"
      ],
      "metadata": {
        "colab": {
          "base_uri": "https://localhost:8080/"
        },
        "id": "RumT92J0ZM4b",
        "outputId": "b38b9337-dac2-458c-f07b-360674dbf100"
      },
      "execution_count": null,
      "outputs": [
        {
          "output_type": "stream",
          "name": "stdout",
          "text": [
            "11/11 [==============================] - 0s 4ms/step - loss: 1.0533 - cohen_kappa: 0.0000e+00 - accuracy: 0.4268\n",
            "[1.0532646179199219, 0.0, 0.4268292784690857]\n"
          ]
        }
      ]
    },
    {
      "cell_type": "markdown",
      "source": [
        "# Bidirectional"
      ],
      "metadata": {
        "id": "cgXoNkQzY99B"
      }
    },
    {
      "cell_type": "code",
      "source": [
        "epochs = 10\n",
        "tf.keras.backend.clear_session()\n",
        "callback = tf.keras.callbacks.EarlyStopping(monitor='val_loss', patience=50)\n",
        "bi_model = tf.keras.Sequential([\n",
        "        tf.keras.layers.Input(shape=(1,X_train.shape[2])),\n",
        "        tf.keras.layers.Bidirectional(tf.keras.layers.LSTM(128,activation=\"sigmoid\", return_sequences=True)),\n",
        "        tf.keras.layers.Dropout(.2),\n",
        "        tf.keras.layers.Bidirectional(tf.keras.layers.LSTM(64 ,activation=\"sigmoid\")),\n",
        "        #tf.keras.layers.Dropout(.2),\n",
        "        tf.keras.layers.Dense(num_labels, activation=\"softmax\"),\n",
        "])\n",
        "op = keras.optimizers.Adam(learning_rate=0.001)\n",
        "loss = keras.losses.SparseCategoricalCrossentropy()\n",
        "bi_model.compile(optimizer=op,\n",
        "              loss=loss,\n",
        "              metrics=[tfa.metrics.CohenKappa(weightage=\"quadratic\", sparse_labels=True, num_classes=num_labels),\"accuracy\"])\n",
        "bi_history = bi_model.fit(X_train, y_train,epochs=epochs, validation_split=0.1, batch_size=64, shuffle=True, callbacks=[callback])"
      ],
      "metadata": {
        "colab": {
          "base_uri": "https://localhost:8080/"
        },
        "id": "URRpc7RAZCCF",
        "outputId": "c5c5ffae-48bd-4e5d-abfe-583162d6e190"
      },
      "execution_count": null,
      "outputs": [
        {
          "output_type": "stream",
          "name": "stdout",
          "text": [
            "Epoch 1/10\n",
            "19/19 [==============================] - 7s 70ms/step - loss: 1.0498 - cohen_kappa: -6.5243e-04 - accuracy: 0.4407 - val_loss: 1.0512 - val_cohen_kappa: 0.0000e+00 - val_accuracy: 0.2955\n",
            "Epoch 2/10\n",
            "19/19 [==============================] - 0s 19ms/step - loss: 1.0356 - cohen_kappa: 0.0080 - accuracy: 0.4508 - val_loss: 1.0149 - val_cohen_kappa: 0.0000e+00 - val_accuracy: 0.5227\n",
            "Epoch 3/10\n",
            "19/19 [==============================] - 0s 18ms/step - loss: 1.0334 - cohen_kappa: -0.0041 - accuracy: 0.4695 - val_loss: 1.0170 - val_cohen_kappa: 0.0000e+00 - val_accuracy: 0.5227\n",
            "Epoch 4/10\n",
            "19/19 [==============================] - 0s 18ms/step - loss: 1.0357 - cohen_kappa: 0.0000e+00 - accuracy: 0.4754 - val_loss: 1.0250 - val_cohen_kappa: 0.0000e+00 - val_accuracy: 0.5227\n",
            "Epoch 5/10\n",
            "19/19 [==============================] - 0s 18ms/step - loss: 1.0262 - cohen_kappa: -0.0038 - accuracy: 0.4754 - val_loss: 1.0155 - val_cohen_kappa: 0.0000e+00 - val_accuracy: 0.5227\n",
            "Epoch 6/10\n",
            "19/19 [==============================] - 0s 18ms/step - loss: 1.0254 - cohen_kappa: 0.0000e+00 - accuracy: 0.4754 - val_loss: 1.0182 - val_cohen_kappa: 0.0000e+00 - val_accuracy: 0.5227\n",
            "Epoch 7/10\n",
            "19/19 [==============================] - 0s 19ms/step - loss: 1.0263 - cohen_kappa: 0.0000e+00 - accuracy: 0.4754 - val_loss: 1.0141 - val_cohen_kappa: 0.0000e+00 - val_accuracy: 0.5227\n",
            "Epoch 8/10\n",
            "19/19 [==============================] - 0s 18ms/step - loss: 1.0259 - cohen_kappa: -5.8258e-04 - accuracy: 0.4746 - val_loss: 1.0152 - val_cohen_kappa: 0.0000e+00 - val_accuracy: 0.5227\n",
            "Epoch 9/10\n",
            "19/19 [==============================] - 0s 18ms/step - loss: 1.0269 - cohen_kappa: 0.0000e+00 - accuracy: 0.4754 - val_loss: 1.0181 - val_cohen_kappa: 0.0000e+00 - val_accuracy: 0.5227\n",
            "Epoch 10/10\n",
            "19/19 [==============================] - 0s 17ms/step - loss: 1.0285 - cohen_kappa: 0.0000e+00 - accuracy: 0.4754 - val_loss: 1.0223 - val_cohen_kappa: 0.0000e+00 - val_accuracy: 0.5227\n"
          ]
        }
      ]
    },
    {
      "cell_type": "code",
      "source": [
        "print(bi_model.evaluate(X_test,y_test))"
      ],
      "metadata": {
        "colab": {
          "base_uri": "https://localhost:8080/"
        },
        "id": "eIQsr29uZDvr",
        "outputId": "24e7b751-3cbb-43bc-de96-2280a9f257d9"
      },
      "execution_count": null,
      "outputs": [
        {
          "output_type": "stream",
          "name": "stdout",
          "text": [
            "11/11 [==============================] - 0s 5ms/step - loss: 1.0522 - cohen_kappa: 0.0000e+00 - accuracy: 0.4268\n",
            "[1.0522081851959229, 0.0, 0.4268292784690857]\n"
          ]
        }
      ]
    },
    {
      "cell_type": "markdown",
      "source": [
        "# Deep learning\n"
      ],
      "metadata": {
        "id": "6ufdHM7rVUyk"
      }
    },
    {
      "cell_type": "code",
      "source": [
        "X=np.array(extracted_features_df['feature'].tolist())\n",
        "y=np.array(extracted_features_df['class'].tolist())\n",
        "labelencoder=LabelEncoder()\n",
        "y=to_categorical(labelencoder.fit_transform(y))\n",
        "X_train,X_test,y_train,y_test=train_test_split(X,y,test_size=0.2,random_state=0)\n",
        "X_train=np.expand_dims(X_train,axis=1)\n",
        "X_test=np.expand_dims(X_test,axis=1)"
      ],
      "metadata": {
        "id": "ZTi6F5huVJM3"
      },
      "execution_count": null,
      "outputs": []
    },
    {
      "cell_type": "code",
      "source": [
        "model=Sequential()\n",
        "###first layer\n",
        "model.add(Dense(200,input_shape=(X_train.shape[1],X_train.shape[2])))\n",
        "model.add(Activation('relu'))\n",
        "model.add(Dropout(0.2))\n",
        "###second layer\n",
        "model.add(Dense(200))\n",
        "model.add(Activation('relu'))\n",
        "model.add(Dropout(0.2))\n",
        "###third layer\n",
        "# model.add(Dense(200))\n",
        "# model.add(Activation('relu'))\n",
        "# model.add(Dropout(0.5))\n",
        "\n",
        "###final layer\n",
        "model.add(Dense(num_labels))\n",
        "model.add(Activation('softmax'))\n",
        "\n",
        "\n",
        "model.compile(loss='categorical_crossentropy',optimizer='adam',metrics=['accuracy'])\n"
      ],
      "metadata": {
        "id": "loxlf73RVJKh"
      },
      "execution_count": null,
      "outputs": []
    },
    {
      "cell_type": "code",
      "source": [
        "#checkpointer = ModelCheckpoint(filepath='saved_models/audio_classification.hdf5', verbose=1, save_best_only=True)\n",
        "#checkpointer = tf.keras.callbacks.EarlyStopping(monitor='val_loss', patience=50)\n",
        "start = datetime.now()\n",
        "model.fit(X_train, y_train, batch_size=4, epochs=10, validation_split=0.2, verbose=1)\n",
        "#model.fit(X_train, y_train,epochs=epochs, validation_split=0.2, batch_size=2, callbacks=[callback], shuffle=True)\n",
        "duration = datetime.now() - start\n",
        "print(\"Training completed in time: \", duration)\n"
      ],
      "metadata": {
        "id": "ARPLcVVbVJIF"
      },
      "execution_count": null,
      "outputs": []
    },
    {
      "cell_type": "code",
      "source": [
        "test_accuracy=model.evaluate(X_test,y_test,verbose=0)\n",
        "test_accuracy"
      ],
      "metadata": {
        "id": "SeIqTUyiVJFe"
      },
      "execution_count": null,
      "outputs": []
    },
    {
      "cell_type": "markdown",
      "source": [
        "# CNN\n"
      ],
      "metadata": {
        "id": "8GC30xs_h6Hw"
      }
    },
    {
      "cell_type": "code",
      "source": [
        "X_train=X_train.reshape(X_train.shape[0],X_train.shape[1],X_train.shape[2],1)\n",
        "X_test=X_test.reshape(X_test.shape[0],X_test.shape[1],X_test.shape[2],1)"
      ],
      "metadata": {
        "id": "U1f-MvPBS2PZ"
      },
      "execution_count": null,
      "outputs": []
    },
    {
      "cell_type": "code",
      "source": [
        "input_shape=(X_train.shape[1],X_train.shape[2],1)\n",
        "CNNmodel = models.Sequential()\n",
        "CNNmodel.add(layers.Conv2D(32, (3, 3), activation='relu', input_shape=input_shape,kernel_initializer='glorot_uniform'))\n",
        "CNNmodel.add(layers.MaxPooling2D((2, 2)))\n",
        "CNNmodel.add(layers.Dropout(0.2))\n",
        "CNNmodel.add(layers.Conv2D(64, (3, 3), activation='relu'))\n",
        "CNNmodel.add(layers.MaxPooling2D((2, 2)))\n",
        "CNNmodel.add(layers.Dropout(0.2))\n",
        "CNNmodel.add(layers.Conv2D(64, (3, 3), activation='relu'))\n",
        "CNNmodel.add(layers.Flatten())\n",
        "CNNmodel.add(layers.Dense(64, activation='relu'))\n",
        "CNNmodel.add(layers.Dropout(0.2))\n",
        "CNNmodel.add(layers.Dense(32, activation='relu'))\n",
        "CNNmodel.add(layers.Dense(num_labels, activation='softmax'))"
      ],
      "metadata": {
        "id": "7NUMQ8U8RX1I"
      },
      "execution_count": null,
      "outputs": []
    },
    {
      "cell_type": "code",
      "source": [
        "input_shape=(X_train.shape[1],X_train.shape[2],1)\n",
        "CNNmodel = models.Sequential()\n",
        "CNNmodel.add(layers.Conv2D(32,(3,3), activation='relu', input_shape=input_shape))\n",
        "CNNmodel.add(layers.MaxPooling2D((2, 2)))\n",
        "CNNmodel.add(layers.Flatten())\n",
        "CNNmodel.add(layers.Dense(32, activation='relu'))\n",
        "CNNmodel.add(layers.Dense(num_labels, activation='softmax'))\n",
        "CNNmodel.summary()"
      ],
      "metadata": {
        "colab": {
          "base_uri": "https://localhost:8080/"
        },
        "id": "a4S2kOgRbIUa",
        "outputId": "8abee5ac-42a4-4594-de69-985c08bd7ef5"
      },
      "execution_count": null,
      "outputs": [
        {
          "output_type": "stream",
          "name": "stdout",
          "text": [
            "Model: \"sequential_43\"\n",
            "_________________________________________________________________\n",
            " Layer (type)                Output Shape              Param #   \n",
            "=================================================================\n",
            " conv2d_72 (Conv2D)          (None, 126, 1298, 32)     320       \n",
            "                                                                 \n",
            " max_pooling2d_34 (MaxPoolin  (None, 63, 649, 32)      0         \n",
            " g2D)                                                            \n",
            "                                                                 \n",
            " flatten_15 (Flatten)        (None, 1308384)           0         \n",
            "                                                                 \n",
            " dense_29 (Dense)            (None, 32)                41868320  \n",
            "                                                                 \n",
            " dense_30 (Dense)            (None, 24)                792       \n",
            "                                                                 \n",
            "=================================================================\n",
            "Total params: 41,869,432\n",
            "Trainable params: 41,869,432\n",
            "Non-trainable params: 0\n",
            "_________________________________________________________________\n"
          ]
        }
      ]
    },
    {
      "cell_type": "code",
      "source": [
        "CNNmodel.compile(optimizer='adam',loss=tf.keras.losses.SparseCategoricalCrossentropy(from_logits=False),metrics=['accuracy'])"
      ],
      "metadata": {
        "id": "TKxpm3D8bkRC"
      },
      "execution_count": null,
      "outputs": []
    },
    {
      "cell_type": "code",
      "source": [
        "history = CNNmodel.fit(X_train, y_train, epochs=5, validation_split=0.2,batch_size=4)"
      ],
      "metadata": {
        "colab": {
          "base_uri": "https://localhost:8080/"
        },
        "id": "McxsAwwEbsGk",
        "outputId": "00787e30-aa66-4076-b5f7-fd52abea99c5"
      },
      "execution_count": null,
      "outputs": [
        {
          "output_type": "stream",
          "name": "stdout",
          "text": [
            "Epoch 1/5\n",
            "112/112 [==============================] - 103s 811ms/step - loss: 1.0157 - accuracy: 0.5915 - val_loss: 1.4661 - val_accuracy: 0.3036\n",
            "Epoch 2/5\n",
            "112/112 [==============================] - 90s 800ms/step - loss: 0.8011 - accuracy: 0.6987 - val_loss: 2.1415 - val_accuracy: 0.3214\n",
            "Epoch 3/5\n",
            "112/112 [==============================] - 94s 842ms/step - loss: 0.5302 - accuracy: 0.7835 - val_loss: 2.2514 - val_accuracy: 0.2946\n",
            "Epoch 4/5\n",
            "112/112 [==============================] - 90s 802ms/step - loss: 0.3574 - accuracy: 0.8705 - val_loss: 2.9260 - val_accuracy: 0.2679\n",
            "Epoch 5/5\n",
            "112/112 [==============================] - 90s 807ms/step - loss: 0.2037 - accuracy: 0.9286 - val_loss: 3.3676 - val_accuracy: 0.2857\n"
          ]
        }
      ]
    },
    {
      "cell_type": "code",
      "source": [
        "test_accuracy=CNNmodel.evaluate(X_test,y_test,verbose=0)\n",
        "test_accuracy"
      ],
      "metadata": {
        "colab": {
          "base_uri": "https://localhost:8080/"
        },
        "id": "NLa4wBQTb7IH",
        "outputId": "fe473a32-55d8-488d-8720-c0a34b3d32d6"
      },
      "execution_count": null,
      "outputs": [
        {
          "output_type": "execute_result",
          "data": {
            "text/plain": [
              "[3.3803212642669678, 0.3214285671710968]"
            ]
          },
          "metadata": {},
          "execution_count": 208
        }
      ]
    },
    {
      "cell_type": "markdown",
      "source": [
        "# CNN2"
      ],
      "metadata": {
        "id": "RDAjO1SmdmUd"
      }
    },
    {
      "cell_type": "code",
      "source": [
        "from tensorflow.keras.models import Sequential\n",
        "from tensorflow.keras.layers import Conv2D, Dense, Flatten"
      ],
      "metadata": {
        "id": "wCBPdSEaeCfA"
      },
      "execution_count": null,
      "outputs": []
    },
    {
      "cell_type": "code",
      "source": [
        "X_train=X_train.reshape(X_train.shape[0],X_train.shape[1],X_train.shape[2],1)\n",
        "X_test=X_test.reshape(X_test.shape[0],X_test.shape[1],X_test.shape[2],1)"
      ],
      "metadata": {
        "id": "VwhzPsmMeQwi"
      },
      "execution_count": null,
      "outputs": []
    },
    {
      "cell_type": "code",
      "source": [
        "model = Sequential()\n",
        "model.add(Conv2D(16, (3,3), activation='relu', input_shape=(X_train.shape[1],X_train.shape[2],1)),kernel_initializer='glorot_uniform'))\n",
        "model.add(Conv2D(16, (3,3), activation='relu'))\n",
        "model.add(Flatten())\n",
        "# model.add(Dense(128, activation='relu'))\n",
        "model.add(Dense(1, activation='sigmoid'))\n"
      ],
      "metadata": {
        "id": "c-Z60zhYdpT0"
      },
      "execution_count": null,
      "outputs": []
    },
    {
      "cell_type": "code",
      "source": [
        "# Compiling and fitting the model\n",
        "#metrics=[tfa.metrics.CohenKappa(num_classes=num_labels, sparse_labels=True, weightage=\"quadratic\"),\"accuracy\"])\n",
        "\n",
        "model.compile('Adam', loss='BinaryCrossentropy', metrics=[tf.keras.metrics.Recall(),tf.keras.metrics.Precision(),tfa.metrics.CohenKappa(num_classes=num_labels, sparse_labels=True, weightage=\"quadratic\"),\"accuracy\"])\n",
        "model.fit(X_train, y_train, epochs=4, validation_split=0.1, batch_size=32)"
      ],
      "metadata": {
        "colab": {
          "base_uri": "https://localhost:8080/"
        },
        "id": "pAEITfJ4dpKI",
        "outputId": "2a97d402-6721-40bb-fd5e-a17a43465f6a"
      },
      "execution_count": null,
      "outputs": [
        {
          "output_type": "stream",
          "name": "stdout",
          "text": [
            "Epoch 1/4\n",
            "126/126 [==============================] - 61s 457ms/step - loss: -2159109.7500 - recall_2: 1.0000 - precision_2: 0.7857 - cohen_kappa: 0.0000e+00 - accuracy: 0.2917 - val_loss: -9994530.0000 - val_recall_2: 1.0000 - val_precision_2: 0.8036 - val_cohen_kappa: 0.0000e+00 - val_accuracy: 0.2679\n",
            "Epoch 2/4\n",
            "126/126 [==============================] - 55s 436ms/step - loss: -28001346.0000 - recall_2: 1.0000 - precision_2: 0.7857 - cohen_kappa: 0.0000e+00 - accuracy: 0.2917 - val_loss: -82629016.0000 - val_recall_2: 1.0000 - val_precision_2: 0.8036 - val_cohen_kappa: 0.0000e+00 - val_accuracy: 0.2679\n",
            "Epoch 3/4\n",
            "126/126 [==============================] - 55s 435ms/step - loss: -124523760.0000 - recall_2: 1.0000 - precision_2: 0.7857 - cohen_kappa: 0.0000e+00 - accuracy: 0.2917 - val_loss: -290700640.0000 - val_recall_2: 1.0000 - val_precision_2: 0.8036 - val_cohen_kappa: 0.0000e+00 - val_accuracy: 0.2679\n",
            "Epoch 4/4\n",
            "126/126 [==============================] - 55s 435ms/step - loss: -339330848.0000 - recall_2: 1.0000 - precision_2: 0.7857 - cohen_kappa: 0.0000e+00 - accuracy: 0.2917 - val_loss: -709258176.0000 - val_recall_2: 1.0000 - val_precision_2: 0.8036 - val_cohen_kappa: 0.0000e+00 - val_accuracy: 0.2679\n"
          ]
        },
        {
          "output_type": "execute_result",
          "data": {
            "text/plain": [
              "<keras.callbacks.History at 0x7fc017061e80>"
            ]
          },
          "metadata": {},
          "execution_count": 195
        }
      ]
    },
    {
      "cell_type": "code",
      "source": [
        "print(model.evaluate(X_test,y_test))"
      ],
      "metadata": {
        "colab": {
          "base_uri": "https://localhost:8080/"
        },
        "id": "zbaYL-Fnir5I",
        "outputId": "494330a9-6536-4588-b1e9-1b8cf459e3c8"
      },
      "execution_count": null,
      "outputs": [
        {
          "output_type": "stream",
          "name": "stdout",
          "text": [
            "5/5 [==============================] - 5s 726ms/step - loss: -454215168.0000 - recall_2: 1.0000 - precision_2: 0.6786 - cohen_kappa: 0.0000e+00 - accuracy: 0.2429\n",
            "[-454215168.0, 1.0, 0.6785714030265808, 0.0, 0.24285714328289032]\n"
          ]
        }
      ]
    },
    {
      "cell_type": "code",
      "source": [],
      "metadata": {
        "id": "YF9w5HD_gvQJ"
      },
      "execution_count": null,
      "outputs": []
    },
    {
      "cell_type": "markdown",
      "source": [
        "# CNN3"
      ],
      "metadata": {
        "id": "cuedWmrvgwBa"
      }
    },
    {
      "cell_type": "code",
      "source": [
        "X_train.shape"
      ],
      "metadata": {
        "colab": {
          "base_uri": "https://localhost:8080/"
        },
        "id": "iWXDy21QhP9J",
        "outputId": "a771f7fe-c96e-43cd-8c22-6ab8f3f9f536"
      },
      "execution_count": null,
      "outputs": [
        {
          "output_type": "execute_result",
          "data": {
            "text/plain": [
              "(560, 40, 2600, 1)"
            ]
          },
          "metadata": {},
          "execution_count": 320
        }
      ]
    },
    {
      "cell_type": "code",
      "source": [
        "model = keras.models.Sequential([    \n",
        "    keras.layers.Conv2D(filters=16, kernel_size=(3,3), activation='relu', input_shape=(40,2600,1),kernel_initializer='glorot_uniform'),\n",
        "    keras.layers.Conv2D(filters=32, kernel_size=(3,3), activation='relu'),\n",
        "    keras.layers.MaxPool2D(pool_size=(2, 2)),\n",
        "    keras.layers.BatchNormalization(axis=-1),\n",
        "    \n",
        "    keras.layers.Conv2D(filters=64, kernel_size=(3,3), activation='relu'),\n",
        "    keras.layers.Conv2D(filters=128, kernel_size=(3,3), activation='relu'),\n",
        "    keras.layers.MaxPool2D(pool_size=(2, 2)),\n",
        "    keras.layers.BatchNormalization(axis=-1),\n",
        "    \n",
        "    keras.layers.Flatten(),\n",
        "    keras.layers.Dense(512, activation='relu'),\n",
        "    keras.layers.BatchNormalization(),\n",
        "    keras.layers.Dropout(rate=0.5),\n",
        "    \n",
        "    keras.layers.Dense(4, activation='softmax')\n",
        "])\n",
        "\n",
        "# model.summary()"
      ],
      "metadata": {
        "id": "QuszXdEVgywR"
      },
      "execution_count": null,
      "outputs": []
    },
    {
      "cell_type": "code",
      "source": [
        "lr = 0.001\n",
        "epochs = 10\n",
        "\n",
        "opt = tf.keras.optimizers.legacy.Adam(lr=lr, decay=lr / (epochs * 0.5))\n",
        "model.compile(loss='categorical_crossentropy', optimizer=opt, metrics=['accuracy'])"
      ],
      "metadata": {
        "id": "Mns435z5gymO"
      },
      "execution_count": null,
      "outputs": []
    },
    {
      "cell_type": "code",
      "source": [
        "y_train = np.array(y_train)\n",
        "mlb = LabelBinarizer()\n",
        "y_train = mlb.fit_transform(y_train)"
      ],
      "metadata": {
        "id": "FXumG3ZMiAiq"
      },
      "execution_count": null,
      "outputs": []
    },
    {
      "cell_type": "code",
      "source": [
        "X_train,X_val,y_train,y_val=train_test_split(X_train,y_train,test_size=0.2,random_state=0)"
      ],
      "metadata": {
        "id": "2RZaUJlFia2p"
      },
      "execution_count": null,
      "outputs": []
    },
    {
      "cell_type": "code",
      "source": [
        "aug = ImageDataGenerator(\n",
        "    rotation_range=10,\n",
        "    zoom_range=0.15,\n",
        "    width_shift_range=0.1,\n",
        "    height_shift_range=0.1,\n",
        "    shear_range=0.15,\n",
        "    horizontal_flip=False,\n",
        "    vertical_flip=False,\n",
        "    fill_mode=\"nearest\")\n",
        "\n",
        "history = model.fit(aug.flow(X_train, y_train, batch_size=16), epochs=epochs, validation_data=(X_val, y_val))"
      ],
      "metadata": {
        "colab": {
          "base_uri": "https://localhost:8080/"
        },
        "id": "2RaObk9Wg19K",
        "outputId": "12599668-3a2b-45c8-a4ba-b8a50fc362b7"
      },
      "execution_count": null,
      "outputs": [
        {
          "output_type": "stream",
          "name": "stdout",
          "text": [
            "Epoch 1/10\n"
          ]
        }
      ]
    },
    {
      "cell_type": "code",
      "source": [],
      "metadata": {
        "id": "dTIdINoIGqAx"
      },
      "execution_count": null,
      "outputs": []
    },
    {
      "cell_type": "markdown",
      "source": [
        "# CNN4\n"
      ],
      "metadata": {
        "id": "ntIhYAZGGq_k"
      }
    },
    {
      "cell_type": "code",
      "source": [
        "all_mfccs=all_mfccs.reshape(all_mfccs.shape[0],all_mfccs.shape[1],all_mfccs.shape[2],1)"
      ],
      "metadata": {
        "id": "0fvGMJEzHEZK"
      },
      "execution_count": null,
      "outputs": []
    },
    {
      "cell_type": "code",
      "source": [
        "all_mfccs=np.array(all_mfccs)\n",
        "labels=np.array(labels)"
      ],
      "metadata": {
        "id": "1TeB4S-YHu-D"
      },
      "execution_count": null,
      "outputs": []
    },
    {
      "cell_type": "code",
      "source": [
        "len(labels)"
      ],
      "metadata": {
        "colab": {
          "base_uri": "https://localhost:8080/"
        },
        "id": "zVNX6cEkK3BX",
        "outputId": "101dac4d-10ac-4e13-e731-0e9ff8a9d953"
      },
      "execution_count": null,
      "outputs": [
        {
          "output_type": "execute_result",
          "data": {
            "text/plain": [
              "700"
            ]
          },
          "metadata": {},
          "execution_count": 248
        }
      ]
    },
    {
      "cell_type": "code",
      "source": [
        "model.fit(all_mfccs,labels,epochs=20, batch_size=4, shuffle=True)"
      ],
      "metadata": {
        "colab": {
          "base_uri": "https://localhost:8080/"
        },
        "id": "0Zizi5GTG_x5",
        "outputId": "eeaa3b7e-884e-467a-9921-8956c12bb1a2"
      },
      "execution_count": null,
      "outputs": [
        {
          "output_type": "stream",
          "name": "stdout",
          "text": [
            "Epoch 1/20\n",
            "175/175 [==============================] - 8s 48ms/step - loss: 1.3705 - accuracy: 0.3071\n",
            "Epoch 2/20\n",
            "175/175 [==============================] - 6s 33ms/step - loss: 1.3756 - accuracy: 0.3086\n",
            "Epoch 3/20\n",
            "175/175 [==============================] - 6s 33ms/step - loss: 1.3657 - accuracy: 0.3086\n",
            "Epoch 4/20\n",
            "175/175 [==============================] - 6s 33ms/step - loss: 1.3647 - accuracy: 0.3100\n",
            "Epoch 5/20\n",
            "175/175 [==============================] - 6s 33ms/step - loss: 1.3642 - accuracy: 0.3100\n",
            "Epoch 6/20\n",
            "175/175 [==============================] - 8s 43ms/step - loss: 1.3660 - accuracy: 0.3071\n",
            "Epoch 7/20\n",
            "175/175 [==============================] - 7s 38ms/step - loss: 1.3662 - accuracy: 0.3057\n",
            "Epoch 8/20\n",
            "175/175 [==============================] - 10s 57ms/step - loss: 1.3649 - accuracy: 0.3086\n",
            "Epoch 9/20\n",
            "175/175 [==============================] - 10s 57ms/step - loss: 1.3656 - accuracy: 0.3071\n",
            "Epoch 10/20\n",
            "175/175 [==============================] - 7s 40ms/step - loss: 1.3646 - accuracy: 0.3086\n",
            "Epoch 11/20\n",
            "175/175 [==============================] - 6s 33ms/step - loss: 1.3653 - accuracy: 0.3086\n",
            "Epoch 12/20\n",
            "175/175 [==============================] - 6s 32ms/step - loss: 1.3654 - accuracy: 0.3071\n",
            "Epoch 13/20\n",
            "175/175 [==============================] - 6s 32ms/step - loss: 1.3652 - accuracy: 0.3071\n",
            "Epoch 14/20\n",
            "175/175 [==============================] - 6s 33ms/step - loss: 1.3635 - accuracy: 0.3086\n",
            "Epoch 15/20\n",
            "175/175 [==============================] - 6s 34ms/step - loss: 1.3635 - accuracy: 0.3086\n",
            "Epoch 16/20\n",
            "175/175 [==============================] - 8s 45ms/step - loss: 1.3653 - accuracy: 0.3071\n",
            "Epoch 17/20\n",
            "175/175 [==============================] - 6s 35ms/step - loss: 1.3635 - accuracy: 0.3086\n",
            "Epoch 18/20\n",
            "175/175 [==============================] - 6s 33ms/step - loss: 1.3652 - accuracy: 0.3086\n",
            "Epoch 19/20\n",
            "175/175 [==============================] - 6s 33ms/step - loss: 1.3646 - accuracy: 0.3086\n",
            "Epoch 20/20\n",
            "175/175 [==============================] - 6s 35ms/step - loss: 1.3629 - accuracy: 0.3086\n"
          ]
        },
        {
          "output_type": "execute_result",
          "data": {
            "text/plain": [
              "<keras.callbacks.History at 0x7f221c0e5ac0>"
            ]
          },
          "metadata": {},
          "execution_count": 250
        }
      ]
    },
    {
      "cell_type": "markdown",
      "source": [
        "# Before Machine Learning"
      ],
      "metadata": {
        "id": "LypsHVqKVbTv"
      }
    },
    {
      "cell_type": "code",
      "source": [
        "### Split the dataset into independent and dependent dataset\n",
        "X=np.array(extracted_features_df['feature'].tolist())\n",
        "y=np.array(extracted_features_df['class'].tolist())\n",
        "X_train,X_test,y_train,y_test=train_test_split(X,y,test_size=0.2,random_state=0)"
      ],
      "metadata": {
        "id": "RtOnj4KM85Gq"
      },
      "execution_count": null,
      "outputs": []
    },
    {
      "cell_type": "markdown",
      "source": [
        "# Lazy predict"
      ],
      "metadata": {
        "id": "tW0WjMcT4oKt"
      }
    },
    {
      "cell_type": "code",
      "source": [
        "clf=LazyClassifier(verbose=0,ignore_warnings=True,custom_metric=None)\n",
        "models,predictions=clf.fit(X_train,X_test,y_train,y_test)\n",
        "print(models)"
      ],
      "metadata": {
        "id": "PT6fE4n94zbQ",
        "colab": {
          "base_uri": "https://localhost:8080/"
        },
        "outputId": "d06baecc-4e14-497e-c344-e3fe470e8464"
      },
      "execution_count": null,
      "outputs": [
        {
          "output_type": "stream",
          "name": "stderr",
          "text": [
            "100%|██████████| 29/29 [00:24<00:00,  1.19it/s]"
          ]
        },
        {
          "output_type": "stream",
          "name": "stdout",
          "text": [
            "                               Accuracy  Balanced Accuracy ROC AUC  F1 Score  \\\n",
            "Model                                                                          \n",
            "RidgeClassifierCV                  0.39               0.36    None      0.37   \n",
            "AdaBoostClassifier                 0.38               0.34    None      0.37   \n",
            "LogisticRegression                 0.35               0.34    None      0.35   \n",
            "RandomForestClassifier             0.40               0.34    None      0.37   \n",
            "SGDClassifier                      0.36               0.34    None      0.35   \n",
            "NearestCentroid                    0.31               0.33    None      0.27   \n",
            "LinearSVC                          0.35               0.33    None      0.34   \n",
            "RidgeClassifier                    0.35               0.32    None      0.33   \n",
            "Perceptron                         0.34               0.31    None      0.34   \n",
            "BernoulliNB                        0.29               0.31    None      0.27   \n",
            "XGBClassifier                      0.36               0.31    None      0.33   \n",
            "LinearDiscriminantAnalysis         0.32               0.31    None      0.32   \n",
            "NuSVC                              0.32               0.30    None      0.32   \n",
            "BaggingClassifier                  0.33               0.30    None      0.32   \n",
            "PassiveAggressiveClassifier        0.32               0.29    None      0.30   \n",
            "CalibratedClassifierCV             0.39               0.29    None      0.27   \n",
            "ExtraTreesClassifier               0.34               0.29    None      0.32   \n",
            "LGBMClassifier                     0.33               0.29    None      0.32   \n",
            "DecisionTreeClassifier             0.30               0.28    None      0.31   \n",
            "SVC                                0.37               0.28    None      0.24   \n",
            "GaussianNB                         0.25               0.26    None      0.21   \n",
            "ExtraTreeClassifier                0.28               0.25    None      0.27   \n",
            "QuadraticDiscriminantAnalysis      0.34               0.25    None      0.25   \n",
            "DummyClassifier                    0.36               0.25    None      0.19   \n",
            "LabelSpreading                     0.14               0.25    None      0.03   \n",
            "LabelPropagation                   0.14               0.25    None      0.03   \n",
            "KNeighborsClassifier               0.29               0.24    None      0.27   \n",
            "\n",
            "                               Time Taken  \n",
            "Model                                      \n",
            "RidgeClassifierCV                    0.10  \n",
            "AdaBoostClassifier                   0.93  \n",
            "LogisticRegression                   0.18  \n",
            "RandomForestClassifier               1.11  \n",
            "SGDClassifier                        0.15  \n",
            "NearestCentroid                      0.03  \n",
            "LinearSVC                            1.59  \n",
            "RidgeClassifier                      0.03  \n",
            "Perceptron                           0.04  \n",
            "BernoulliNB                          0.02  \n",
            "XGBClassifier                        3.43  \n",
            "LinearDiscriminantAnalysis           0.07  \n",
            "NuSVC                                0.26  \n",
            "BaggingClassifier                    0.95  \n",
            "PassiveAggressiveClassifier          0.06  \n",
            "CalibratedClassifierCV               5.90  \n",
            "ExtraTreesClassifier                 0.38  \n",
            "LGBMClassifier                       8.44  \n",
            "DecisionTreeClassifier               0.17  \n",
            "SVC                                  0.19  \n",
            "GaussianNB                           0.02  \n",
            "ExtraTreeClassifier                  0.02  \n",
            "QuadraticDiscriminantAnalysis        0.05  \n",
            "DummyClassifier                      0.02  \n",
            "LabelSpreading                       0.06  \n",
            "LabelPropagation                     0.06  \n",
            "KNeighborsClassifier                 0.03  \n"
          ]
        },
        {
          "output_type": "stream",
          "name": "stderr",
          "text": [
            "\n"
          ]
        }
      ]
    },
    {
      "cell_type": "markdown",
      "source": [
        "# SVC"
      ],
      "metadata": {
        "id": "QfiD9NaSAjI1"
      }
    },
    {
      "cell_type": "code",
      "source": [
        "#clf = make_pipeline(StandardScaler(), SVC())\n",
        "clf = svm.SVC(kernel='linear', C=3)\n",
        "clf.fit(X_train, y_train)\n",
        "pred=clf.predict(X_test)\n",
        "print(\"Accuracy:\", clf.score(X_test, y_test))\n",
        "print(\"QWK:\", cohen_kappa_score(y_test, pred, weights='quadratic'))\n",
        "\n",
        "print(\"F1 Score\")\n",
        "for i in range(num_labels):\n",
        "  print(\"Label\",i,\" F1 Score:\", f1_score(y_test, pred,average=None)[i])\n"
      ],
      "metadata": {
        "colab": {
          "base_uri": "https://localhost:8080/"
        },
        "id": "jOBkS06b5DWb",
        "outputId": "c8b690a6-8a38-469f-d456-25956aa7565f"
      },
      "execution_count": null,
      "outputs": [
        {
          "output_type": "stream",
          "name": "stdout",
          "text": [
            "Accuracy: 0.34765625\n",
            "QWK: 0.212911555842479\n",
            "F1 Score\n",
            "Label 0  F1 Score: 0.43750000000000006\n",
            "Label 1  F1 Score: 0.24806201550387597\n",
            "Label 2  F1 Score: 0.42328042328042326\n",
            "Label 3  F1 Score: 0.2923076923076923\n"
          ]
        }
      ]
    },
    {
      "cell_type": "markdown",
      "source": [
        "# LogisticRegression"
      ],
      "metadata": {
        "id": "a4z0Fa0Iqr_m"
      }
    },
    {
      "cell_type": "code",
      "source": [
        "clf = LogisticRegression(random_state=0).fit(X_train, y_train)\n",
        "pred=clf.predict(X_test)\n",
        "print(\"Accuracy:\", clf.score(X_test, y_test))\n",
        "print(\"QWK:\", cohen_kappa_score(y_test, pred, weights='quadratic'))\n",
        "\n",
        "print(\"F1 Score\")\n",
        "for i in range(num_labels):\n",
        "  print(\"Label\",i,\" F1 Score:\", f1_score(y_test, pred,average=None)[i])\n"
      ],
      "metadata": {
        "colab": {
          "base_uri": "https://localhost:8080/"
        },
        "id": "_0qI4uC2qsXv",
        "outputId": "f0d58595-27d5-4971-f44b-ef5206a4b482"
      },
      "execution_count": null,
      "outputs": [
        {
          "output_type": "stream",
          "name": "stdout",
          "text": [
            "Accuracy: 0.3984375\n",
            "QWK: 0.22804760373110322\n",
            "F1 Score\n",
            "Label 0  F1 Score: 0.30434782608695654\n",
            "Label 1  F1 Score: 0.22680412371134023\n",
            "Label 2  F1 Score: 0.5271317829457364\n",
            "Label 3  F1 Score: 0.2882882882882883\n"
          ]
        }
      ]
    },
    {
      "cell_type": "markdown",
      "source": [
        "# KNeighborsClassifier"
      ],
      "metadata": {
        "id": "TiKWUSKFs1AD"
      }
    },
    {
      "cell_type": "code",
      "source": [
        "clf = KNeighborsClassifier(n_neighbors=9)\n",
        "clf.fit(X_train, y_train)\n",
        "pred=clf.predict(X_test)\n",
        "print(\"Accuracy:\", clf.score(X_test, y_test))\n",
        "print(\"QWK:\", cohen_kappa_score(y_test, pred, weights='quadratic'))\n",
        "\n",
        "print(\"F1 Score\")\n",
        "for i in range(num_labels):\n",
        "  print(\"Label\",i,\" F1 Score:\", f1_score(y_test, pred,average=None)[i])"
      ],
      "metadata": {
        "colab": {
          "base_uri": "https://localhost:8080/"
        },
        "id": "2Rn-1oBHs1VZ",
        "outputId": "07ea7cc0-c2c2-4e52-8250-9c0b096e28fb"
      },
      "execution_count": null,
      "outputs": [
        {
          "output_type": "stream",
          "name": "stdout",
          "text": [
            "Accuracy: 0.33984375\n",
            "QWK: 0.06499429874572404\n",
            "F1 Score\n",
            "Label 0  F1 Score: 0.043478260869565216\n",
            "Label 1  F1 Score: 0.3063063063063063\n",
            "Label 2  F1 Score: 0.4444444444444445\n",
            "Label 3  F1 Score: 0.302158273381295\n"
          ]
        }
      ]
    },
    {
      "cell_type": "markdown",
      "source": [
        "# ExtraTreesClassifier"
      ],
      "metadata": {
        "id": "xKmgH_GwrDLo"
      }
    },
    {
      "cell_type": "code",
      "source": [
        "clf = ExtraTreesClassifier(n_estimators=90, random_state=0)\n",
        "clf.fit(X_train, y_train)\n",
        "pred=clf.predict(X_test)\n",
        "print(\"Accuracy:\", clf.score(X_test, y_test))\n",
        "print(\"QWK:\", cohen_kappa_score(y_test, pred, weights='quadratic'))\n",
        "\n",
        "print(\"F1 Score\")\n",
        "for i in range(num_labels):\n",
        "  print(\"Label\",i,\" F1 Score:\", f1_score(y_test, pred,average=None)[i])\n"
      ],
      "metadata": {
        "colab": {
          "base_uri": "https://localhost:8080/"
        },
        "id": "NLZtnBKgrDvp",
        "outputId": "edca9ebf-00cc-4ef6-8c19-3a660baf2cdf"
      },
      "execution_count": null,
      "outputs": [
        {
          "output_type": "stream",
          "name": "stdout",
          "text": [
            "Accuracy: 0.37890625\n",
            "QWK: 0.14956736711990115\n",
            "F1 Score\n",
            "Label 0  F1 Score: 0.1702127659574468\n",
            "Label 1  F1 Score: 0.3103448275862069\n",
            "Label 2  F1 Score: 0.502127659574468\n",
            "Label 3  F1 Score: 0.2807017543859649\n"
          ]
        }
      ]
    },
    {
      "cell_type": "markdown",
      "source": [
        "# RandomForestClassifier"
      ],
      "metadata": {
        "id": "wMN7WonYrNEo"
      }
    },
    {
      "cell_type": "code",
      "source": [
        "clf = RandomForestClassifier(n_estimators=10,max_depth=9,random_state=0)\n",
        "clf.fit(X_train, y_train)\n",
        "pred=clf.predict(X_test)\n",
        "print(\"Accuracy:\", clf.score(X_test, y_test))\n",
        "print(\"QWK:\", cohen_kappa_score(y_test, pred, weights='quadratic'))\n",
        "\n",
        "print(\"F1 Score\")\n",
        "for i in range(num_labels):\n",
        "  print(\"Label\",i,\" F1 Score:\", f1_score(y_test, pred,average=None)[i])"
      ],
      "metadata": {
        "colab": {
          "base_uri": "https://localhost:8080/"
        },
        "id": "Q--rTHp-rNnh",
        "outputId": "c939b91b-80b6-4ae3-fb54-3fe0a32e2709"
      },
      "execution_count": null,
      "outputs": [
        {
          "output_type": "stream",
          "name": "stdout",
          "text": [
            "Accuracy: 0.3203125\n",
            "QWK: 0.10697674418604652\n",
            "F1 Score\n",
            "Label 0  F1 Score: 0.16666666666666666\n",
            "Label 1  F1 Score: 0.18803418803418803\n",
            "Label 2  F1 Score: 0.4661016949152542\n",
            "Label 3  F1 Score: 0.21621621621621623\n"
          ]
        }
      ]
    },
    {
      "cell_type": "markdown",
      "source": [
        "# LGBMClassifier"
      ],
      "metadata": {
        "id": "1_0vhtaprVU6"
      }
    },
    {
      "cell_type": "code",
      "source": [
        "clf = lgb.LGBMClassifier()\n",
        "clf.fit(X_train, y_train)\n",
        "pred=clf.predict(X_test)\n",
        "print(\"Accuracy:\", clf.score(X_test, y_test))\n",
        "print(\"QWK:\", cohen_kappa_score(y_test, pred, weights='quadratic'))\n",
        "\n",
        "print(\"F1 Score\")\n",
        "for i in range(num_labels):\n",
        "  print(\"Label\",i,\" F1 Score:\", f1_score(y_test, pred,average=None)[i])\n"
      ],
      "metadata": {
        "colab": {
          "base_uri": "https://localhost:8080/"
        },
        "id": "FIEi9gyTrVvS",
        "outputId": "662eca12-e63a-476e-97a2-de223283a62e"
      },
      "execution_count": null,
      "outputs": [
        {
          "output_type": "stream",
          "name": "stdout",
          "text": [
            "Accuracy: 0.3515625\n",
            "QWK: 0.24094307073030474\n",
            "F1 Score\n",
            "Label 0  F1 Score: 0.20408163265306123\n",
            "Label 1  F1 Score: 0.26229508196721313\n",
            "Label 2  F1 Score: 0.43192488262910794\n",
            "Label 3  F1 Score: 0.359375\n"
          ]
        }
      ]
    },
    {
      "cell_type": "markdown",
      "source": [
        "# XGBClassifier"
      ],
      "metadata": {
        "id": "iF3aWEgx8y0g"
      }
    },
    {
      "cell_type": "code",
      "source": [
        "xgbc = XGBClassifier(learning_rate =0.005,\n",
        " n_estimators=10,\n",
        " max_depth=5,\n",
        " min_child_weight=1,\n",
        " gamma=0,\n",
        " subsample=0.8,\n",
        " colsample_bytree=0.8,\n",
        " objective= 'multi:softprob',\n",
        " nthread=4,\n",
        " seed=27)\n",
        "\n",
        "#xgbc = XGBClassifier()\n",
        "xgbc.fit(X_train, y_train)\n",
        "pred=clf.predict(X_test)\n",
        "print(\"Accuracy:\", clf.score(X_test, y_test))\n",
        "print(\"QWK:\", cohen_kappa_score(y_test, pred, weights='quadratic'))\n",
        "\n",
        "print(\"F1 Score\")\n",
        "for i in range(num_labels):\n",
        "  print(\"Label\",i,\" F1 Score:\", f1_score(y_test, pred,average=None)[i])\n"
      ],
      "metadata": {
        "id": "dlduKB_k5-IP",
        "colab": {
          "base_uri": "https://localhost:8080/"
        },
        "outputId": "9ae21d3b-ce4a-41a0-a0dc-43ca6e353e8c"
      },
      "execution_count": null,
      "outputs": [
        {
          "output_type": "stream",
          "name": "stdout",
          "text": [
            "Accuracy: 0.3515625\n",
            "QWK: 0.24094307073030474\n",
            "F1 Score\n",
            "Label 0  F1 Score: 0.20408163265306123\n",
            "Label 1  F1 Score: 0.26229508196721313\n",
            "Label 2  F1 Score: 0.43192488262910794\n",
            "Label 3  F1 Score: 0.359375\n"
          ]
        }
      ]
    },
    {
      "cell_type": "markdown",
      "source": [
        "# BaggingClassifier"
      ],
      "metadata": {
        "id": "rsk1SATFreoU"
      }
    },
    {
      "cell_type": "code",
      "source": [
        "clf = BaggingClassifier(n_estimators=150,random_state=0)\n",
        "clf.fit(X_train, y_train)\n",
        "pred=clf.predict(X_test)\n",
        "print(\"Accuracy:\", clf.score(X_test, y_test))\n",
        "print(\"QWK:\", cohen_kappa_score(y_test, pred, weights='quadratic'))\n",
        "\n",
        "print(\"F1 Score\")\n",
        "for i in range(num_labels):\n",
        "  print(\"Label\",i,\" F1 Score:\", f1_score(y_test, pred,average=None)[i])"
      ],
      "metadata": {
        "colab": {
          "base_uri": "https://localhost:8080/"
        },
        "id": "eqHUC2yarfFK",
        "outputId": "0ca366ad-c839-45cf-82c8-cce0da895c44"
      },
      "execution_count": null,
      "outputs": [
        {
          "output_type": "stream",
          "name": "stdout",
          "text": [
            "Accuracy: 0.37890625\n",
            "QWK: 0.17954780552682137\n",
            "F1 Score\n",
            "Label 0  F1 Score: 0.20408163265306123\n",
            "Label 1  F1 Score: 0.25\n",
            "Label 2  F1 Score: 0.4954954954954955\n",
            "Label 3  F1 Score: 0.36363636363636365\n"
          ]
        }
      ]
    },
    {
      "cell_type": "markdown",
      "source": [
        "# NuSVC"
      ],
      "metadata": {
        "id": "R2hFXBSAVRuo"
      }
    },
    {
      "cell_type": "code",
      "source": [
        "clf = make_pipeline(StandardScaler(), NuSVC())\n",
        "clf.fit(X_train, y_train)\n",
        "pred=clf.predict(X_test)\n",
        "print(\"Accuracy:\", clf.score(X_test, y_test))\n",
        "print(\"QWK:\", cohen_kappa_score(y_test, pred, weights='quadratic'))\n",
        "\n",
        "print(\"F1 Score\")\n",
        "for i in range(num_labels):\n",
        "  print(\"Label\",i,\" F1 Score:\", f1_score(y_test, pred,average=None)[i])\n"
      ],
      "metadata": {
        "colab": {
          "base_uri": "https://localhost:8080/"
        },
        "id": "k-XYc2qdVIO2",
        "outputId": "1002094a-4163-45af-9a9d-efd225c1f324"
      },
      "execution_count": null,
      "outputs": [
        {
          "output_type": "stream",
          "name": "stdout",
          "text": [
            "Accuracy: 0.32421875\n",
            "QWK: 0.25072523829258186\n",
            "F1 Score\n",
            "Label 0  F1 Score: 0.2\n",
            "Label 1  F1 Score: 0.2608695652173913\n",
            "Label 2  F1 Score: 0.37696335078534027\n",
            "Label 3  F1 Score: 0.3609022556390977\n"
          ]
        }
      ]
    },
    {
      "cell_type": "markdown",
      "source": [
        "# LinearSVC"
      ],
      "metadata": {
        "id": "yGYog1yaZrSW"
      }
    },
    {
      "cell_type": "code",
      "source": [
        "clf = make_pipeline(StandardScaler(),LinearSVC(random_state=0, tol=1e-5))\n",
        "clf.fit(X_train, y_train)\n",
        "pred=clf.predict(X_test)\n",
        "print(\"Accuracy:\", clf.score(X_test, y_test))\n",
        "print(\"QWK:\", cohen_kappa_score(y_test, pred, weights='quadratic'))\n",
        "\n",
        "print(\"F1 Score\")\n",
        "for i in range(num_labels):\n",
        "  print(\"Label\",i,\" F1 Score:\", f1_score(y_test, pred,average=None)[i])\n"
      ],
      "metadata": {
        "id": "qZck7UeWVNRr",
        "colab": {
          "base_uri": "https://localhost:8080/"
        },
        "outputId": "1191706b-42ba-4164-8494-2cb0e47206bf"
      },
      "execution_count": null,
      "outputs": [
        {
          "output_type": "stream",
          "name": "stdout",
          "text": [
            "Accuracy: 0.34765625\n",
            "QWK: 0.19166336894868752\n",
            "F1 Score\n",
            "Label 0  F1 Score: 0.43333333333333335\n",
            "Label 1  F1 Score: 0.1754385964912281\n",
            "Label 2  F1 Score: 0.4334975369458128\n",
            "Label 3  F1 Score: 0.3259259259259259\n"
          ]
        }
      ]
    },
    {
      "cell_type": "markdown",
      "source": [
        "# SGDClassifier"
      ],
      "metadata": {
        "id": "Op9ARbgaaL7z"
      }
    },
    {
      "cell_type": "code",
      "source": [
        "clf = make_pipeline(StandardScaler(),SGDClassifier(max_iter=1000, tol=1e-3))\n",
        "clf.fit(X_train, y_train)\n",
        "pred=clf.predict(X_test)\n",
        "print(\"Accuracy:\", clf.score(X_test, y_test))\n",
        "print(\"QWK:\", cohen_kappa_score(y_test, pred, weights='quadratic'))\n",
        "\n",
        "print(\"F1 Score\")\n",
        "for i in range(num_labels):\n",
        "  print(\"Label\",i,\" F1 Score:\", f1_score(y_test, pred,average=None)[i])\n"
      ],
      "metadata": {
        "colab": {
          "base_uri": "https://localhost:8080/"
        },
        "id": "mB6JC9U5Zx8U",
        "outputId": "239ec393-61bb-4607-fc2b-207ea74c302f"
      },
      "execution_count": null,
      "outputs": [
        {
          "output_type": "stream",
          "name": "stdout",
          "text": [
            "Accuracy: 0.3046875\n",
            "QWK: 0.20774251631780327\n",
            "F1 Score\n",
            "Label 0  F1 Score: 0.30952380952380953\n",
            "Label 1  F1 Score: 0.22429906542056074\n",
            "Label 2  F1 Score: 0.3636363636363636\n",
            "Label 3  F1 Score: 0.28965517241379307\n"
          ]
        }
      ]
    },
    {
      "cell_type": "markdown",
      "source": [
        "# LinearDiscriminantAnalysis"
      ],
      "metadata": {
        "id": "oupRQOt63z3D"
      }
    },
    {
      "cell_type": "code",
      "source": [
        "clf = LinearDiscriminantAnalysis()\n",
        "clf.fit(X_train, y_train)\n",
        "pred=clf.predict(X_test)\n",
        "print(\"Accuracy:\", clf.score(X_test, y_test))\n",
        "print(\"QWK:\", cohen_kappa_score(y_test, pred, weights='quadratic'))\n",
        "\n",
        "print(\"F1 Score\")\n",
        "for i in range(num_labels):\n",
        "  print(\"Label\",i,\" F1 Score:\", f1_score(y_test, pred,average=None)[i])"
      ],
      "metadata": {
        "colab": {
          "base_uri": "https://localhost:8080/"
        },
        "id": "DD8oYrGl4wgm",
        "outputId": "c13b4375-31bb-4bc7-fed9-5e4b59d1f856"
      },
      "execution_count": null,
      "outputs": [
        {
          "output_type": "stream",
          "name": "stdout",
          "text": [
            "Accuracy: 0.32421875\n",
            "QWK: 0.09442060085836912\n",
            "F1 Score\n",
            "Label 0  F1 Score: 0.3448275862068965\n",
            "Label 1  F1 Score: 0.19999999999999998\n",
            "Label 2  F1 Score: 0.42574257425742573\n",
            "Label 3  F1 Score: 0.27272727272727276\n"
          ]
        }
      ]
    },
    {
      "cell_type": "code",
      "source": [],
      "metadata": {
        "id": "FKjM-uC020N0"
      },
      "execution_count": null,
      "outputs": []
    }
  ]
}